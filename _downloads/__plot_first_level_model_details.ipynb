{
  "cells": [
    {
      "cell_type": "code",
      "execution_count": null,
      "metadata": {
        "collapsed": false
      },
      "outputs": [],
      "source": [
        "%matplotlib inline"
      ]
    },
    {
      "cell_type": "markdown",
      "metadata": {},
      "source": [
        "Studying firts-level-model details in a trials-and-error fashion\n================================================================\n\nIn this tutorial, we study the parametrization of the first-level\nmodel used for fMRI data analysis and clarify their impact on the\nresults of the analysis.\n\nWe use an exploratory approach, in which we incrementally include some\nnew features in the analysis and look at the outcome, i.e. the\nresulting brain maps.\n\nReaders without prior experience in fMRI data analysis should first\nrun the plot_sing_subject_single_run tutorial to get a bit more\nfamiliar with the base concepts, and only then run thi script.\n\nTo run this example, you must launch IPython via ``ipython\n--matplotlib`` in a terminal, or use ``jupyter-notebook``.\n    :depth: 1\n\n\n"
      ]
    },
    {
      "cell_type": "code",
      "execution_count": null,
      "metadata": {
        "collapsed": false
      },
      "outputs": [],
      "source": [
        "import numpy as np\nimport pandas as pd\nfrom nilearn import plotting\nfrom nistats.first_level_model import FirstLevelModel\nfrom nistats import datasets"
      ]
    },
    {
      "cell_type": "markdown",
      "metadata": {},
      "source": [
        "Retrieving the data\n-------------------\n\nWe use a so-called localizer dataset, which consists in a 5-minutes\nacquisition of a fast event-related dataset.\n\n"
      ]
    },
    {
      "cell_type": "code",
      "execution_count": null,
      "metadata": {
        "collapsed": false
      },
      "outputs": [],
      "source": [
        "subject_data = datasets.fetch_spm_multimodal_fmri()\ntr = 2.\nfrom nilearn.image import concat_imgs, mean_img, threshold_img, crop_img\nfmri_img = concat_imgs(subject_data.func1, auto_resample=True)"
      ]
    },
    {
      "cell_type": "markdown",
      "metadata": {},
      "source": [
        "Create mean image for display\n\n"
      ]
    },
    {
      "cell_type": "code",
      "execution_count": null,
      "metadata": {
        "collapsed": false
      },
      "outputs": [],
      "source": [
        "mean_image = mean_img(fmri_img)\nbg_image = crop_img(threshold_img(mean_image, 66))"
      ]
    },
    {
      "cell_type": "markdown",
      "metadata": {},
      "source": [
        "Get the experimental paradigm\n\n"
      ]
    },
    {
      "cell_type": "code",
      "execution_count": null,
      "metadata": {
        "collapsed": false
      },
      "outputs": [],
      "source": [
        "n_scans = fmri_img.shape[-1]\nfrom scipy.io import loadmat\ntiming = loadmat(getattr(subject_data, \"trials_ses1\"),\n                 squeeze_me=True, struct_as_record=False)\nfaces_onsets = timing['onsets'][0].ravel()\nscrambled_onsets = timing['onsets'][1].ravel()\nonsets = np.hstack((faces_onsets, scrambled_onsets))\nonsets *= tr  # because onsets were reporting in 'scans' units\nconditions = (['faces'] * len(faces_onsets) +\n              ['scrambled'] * len(scrambled_onsets))\nparadigm = pd.DataFrame({'trial_type': conditions, 'onset': onsets})\n\n# Build design matrix\nframe_times = np.arange(n_scans) * tr\nfrom nistats.design_matrix import make_design_matrix\ndesign_matrix = make_design_matrix(frame_times, paradigm)"
      ]
    },
    {
      "cell_type": "markdown",
      "metadata": {},
      "source": [
        "We can specify some contrasts (To get corresponding maps)\nfor the sake of script concision, it is advatageous to make it a function\n\n"
      ]
    },
    {
      "cell_type": "code",
      "execution_count": null,
      "metadata": {
        "collapsed": false
      },
      "outputs": [],
      "source": [
        "def make_contrasts(design_matrix):\n    contrast_matrix = np.eye(design_matrix.shape[1])\n    contrasts = dict([(column, contrast_matrix[i])\n                      for i, column in enumerate(design_matrix.columns)])\n    return{\n        'faces-scrambled': contrasts['faces'] - contrasts['scrambled'],\n        'scrambled-faces': -contrasts['faces'] + contrasts['scrambled'],\n        'effects_of_interest': np.vstack((contrasts['faces'],\n                                          contrasts['scrambled']))\n    }\n\ncontrasts = make_contrasts(design_matrix)"
      ]
    },
    {
      "cell_type": "markdown",
      "metadata": {},
      "source": [
        "Fit GLM\n\n"
      ]
    },
    {
      "cell_type": "code",
      "execution_count": null,
      "metadata": {
        "collapsed": false
      },
      "outputs": [],
      "source": [
        "print('Fitting a GLM')\nfmri_glm = FirstLevelModel(tr)\nfmri_glm = fmri_glm.fit(fmri_img, design_matrices=design_matrix)"
      ]
    },
    {
      "cell_type": "markdown",
      "metadata": {},
      "source": [
        "Compute contrast maps\n\n\n"
      ]
    },
    {
      "cell_type": "code",
      "execution_count": null,
      "metadata": {
        "collapsed": false
      },
      "outputs": [],
      "source": [
        "from nilearn import plotting\nimport matplotlib.pyplot as plt\n\nplt.figure(figsize=(8, 2.5))\nfor i, (contrast_id, contrast_val) in enumerate(contrasts.items()):\n    ax = plt.subplot(1, len(contrasts), i + 1)\n    z_map = fmri_glm.compute_contrast(\n        contrast_val, output_type='z_score')\n    plotting.plot_stat_map(\n        z_map, bg_img=bg_image, threshold=3.0, display_mode='z', vmax=7,\n        black_bg=True, title=contrast_id, axes=ax, cut_coords=[0])\n\nplotting.show()"
      ]
    },
    {
      "cell_type": "markdown",
      "metadata": {},
      "source": [
        "let's explore now some variants around this basic model\n\nFirst let's take a look at the design matrix\n\n"
      ]
    },
    {
      "cell_type": "code",
      "execution_count": null,
      "metadata": {
        "collapsed": false
      },
      "outputs": [],
      "source": [
        "from nistats.reporting import plot_design_matrix\nplot_design_matrix(design_matrix)\nplt.show()"
      ]
    },
    {
      "cell_type": "markdown",
      "metadata": {},
      "source": [
        "Changing the drift model\n------------------------\n\nBy default the drift model is a set of slow oscillating functions (Discrete Cosine transform), with a cutoff at frequency 1/128 hz.\nWe can change this cut-off, e.g. to 200s:\n\n"
      ]
    },
    {
      "cell_type": "code",
      "execution_count": null,
      "metadata": {
        "collapsed": false
      },
      "outputs": [],
      "source": [
        "design_matrix = make_design_matrix(frame_times, paradigm, period_cut=200)\nplot_design_matrix(design_matrix)"
      ]
    },
    {
      "cell_type": "markdown",
      "metadata": {},
      "source": [
        "Any impact on the resulting stat maps ?\n\n\n"
      ]
    },
    {
      "cell_type": "code",
      "execution_count": null,
      "metadata": {
        "collapsed": false
      },
      "outputs": [],
      "source": [
        "fmri_glm = FirstLevelModel(tr)\nfmri_glm = fmri_glm.fit(fmri_img, design_matrices=design_matrix)\ncontrasts = make_contrasts(design_matrix)\nplt.figure(figsize=(8, 2.5))\nfor i, (contrast_id, contrast_val) in enumerate(contrasts.items()):\n    ax = plt.subplot(1, len(contrasts), i + 1)\n    z_map = fmri_glm.compute_contrast(\n        contrast_val, output_type='z_score')\n    plotting.plot_stat_map(\n        z_map, bg_img=bg_image, threshold=3.0, display_mode='z', vmax=7,\n        black_bg=True, title=contrast_id, axes=ax, cut_coords=[0])\n\nplotting.show()"
      ]
    }
  ],
  "metadata": {
    "kernelspec": {
      "display_name": "Python 3",
      "language": "python",
      "name": "python3"
    },
    "language_info": {
      "codemirror_mode": {
        "name": "ipython",
        "version": 3
      },
      "file_extension": ".py",
      "mimetype": "text/x-python",
      "name": "python",
      "nbconvert_exporter": "python",
      "pygments_lexer": "ipython3",
      "version": "3.6.6"
    }
  },
  "nbformat": 4,
  "nbformat_minor": 0
}