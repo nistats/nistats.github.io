{
  "metadata": {
    "kernelspec": {
      "name": "python3",
      "display_name": "Python 3",
      "language": "python"
    },
    "language_info": {
      "nbconvert_exporter": "python",
      "name": "python",
      "mimetype": "text/x-python",
      "file_extension": ".py",
      "pygments_lexer": "ipython3",
      "version": "3.5.0",
      "codemirror_mode": {
        "name": "ipython",
        "version": 3
      }
    }
  },
  "nbformat_minor": 0,
  "cells": [
    {
      "cell_type": "code",
      "metadata": {
        "collapsed": false
      },
      "execution_count": null,
      "outputs": [],
      "source": [
        "%matplotlib inline"
      ]
    },
    {
      "cell_type": "markdown",
      "metadata": {},
      "source": [
        "\nDefault Mode Network extraction of AHDH dataset\n===============================================\n\nFull step-by-step example of fitting a GLM to a seed extract on the\nPosterior Cingulate Cortex data and saving the results.\n\nMore specifically:\n\n1. A sequence of fMRI volumes are loaded\n2. A design matrix with the Posterior Cingulate Cortex seed is defined\n4. A GLM is applied to the dataset (effect/covariance,\n   then contrast estimation)\n5. The Default Mode Network is displayed\n\n\n"
      ]
    },
    {
      "cell_type": "code",
      "metadata": {
        "collapsed": false
      },
      "execution_count": null,
      "outputs": [],
      "source": [
        "import numpy as np\n\nfrom nilearn import datasets, plotting\nfrom nilearn.input_data import NiftiSpheresMasker\n\nfrom nistats.first_level_model import FirstLevelModel\nfrom nistats.design_matrix import make_first_level_design_matrix"
      ]
    },
    {
      "cell_type": "markdown",
      "metadata": {},
      "source": [
        "Prepare data and analysis parameters\n-------------------------------------\nPrepare data\n\n"
      ]
    },
    {
      "cell_type": "code",
      "metadata": {
        "collapsed": false
      },
      "execution_count": null,
      "outputs": [],
      "source": [
        "adhd_dataset = datasets.fetch_adhd(n_subjects=1)\n\n# Prepare timing\nt_r = 2.\nslice_time_ref = 0.\nn_scans = 176\n\n# Prepare seed\npcc_coords = (0, -53, 26)"
      ]
    },
    {
      "cell_type": "markdown",
      "metadata": {},
      "source": [
        "Estimate contrasts\n------------------\nSpecify the contrasts\n\n"
      ]
    },
    {
      "cell_type": "code",
      "metadata": {
        "collapsed": false
      },
      "execution_count": null,
      "outputs": [],
      "source": [
        "seed_masker = NiftiSpheresMasker([pcc_coords], radius=10, detrend=True,\n                                 standardize=True, low_pass=0.1,\n                                 high_pass=0.01, t_r=2.,\n                                 memory='nilearn_cache',\n                                 memory_level=1, verbose=0)\nseed_time_series = seed_masker.fit_transform(adhd_dataset.func[0])\nframetimes = np.linspace(0, (n_scans - 1) * t_r, n_scans)\ndesign_matrix = make_first_level_design_matrix(frametimes, hrf_model='spm',\n                                               add_regs=seed_time_series,\n                                               add_reg_names=[\"pcc_seed\"])\ndmn_contrast = np.array([1] + [0]*(design_matrix.shape[1]-1))\ncontrasts = {'seed_based_glm': dmn_contrast}"
      ]
    },
    {
      "cell_type": "markdown",
      "metadata": {},
      "source": [
        "Perform first level analysis\n----------------------------\nSetup and fit GLM\n\n"
      ]
    },
    {
      "cell_type": "code",
      "metadata": {
        "collapsed": false
      },
      "execution_count": null,
      "outputs": [],
      "source": [
        "first_level_model = FirstLevelModel(t_r=t_r, slice_time_ref=slice_time_ref)\nfirst_level_model = first_level_model.fit(run_imgs=adhd_dataset.func[0],\n                                          design_matrices=design_matrix)"
      ]
    },
    {
      "cell_type": "markdown",
      "metadata": {},
      "source": [
        "contrast estimation\n\n"
      ]
    },
    {
      "cell_type": "code",
      "metadata": {
        "collapsed": false
      },
      "execution_count": null,
      "outputs": [],
      "source": [
        "print('Contrast seed_based_glm computed.')\nz_map = first_level_model.compute_contrast(contrasts['seed_based_glm'],\n                                           output_type='z_score')\n\n# Saving snapshots of the contrasts\nfilename = 'dmn_z_map.png'\ndisplay = plotting.plot_stat_map(z_map, threshold=3.0, title='Seed based GLM',\n                                 cut_coords=pcc_coords)\ndisplay.add_markers(marker_coords=[pcc_coords], marker_color='g',marker_size=300)\ndisplay.savefig(filename)\nprint(\"Save z-map in '{0}'.\".format(filename))"
      ]
    }
  ],
  "nbformat": 4
}