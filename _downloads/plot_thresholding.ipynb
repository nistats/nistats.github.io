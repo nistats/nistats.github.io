{
  "nbformat_minor": 0,
  "nbformat": 4,
  "cells": [
    {
      "outputs": [],
      "execution_count": null,
      "cell_type": "code",
      "source": [
        "%matplotlib inline"
      ],
      "metadata": {
        "collapsed": false
      }
    },
    {
      "cell_type": "markdown",
      "source": [
        "\nExample of simple second level analysis\n=======================================\n\nPerform a one-sample t-test on a bunch of images \n(a.k.a. second-level analyis in fMRI) and threshold a statistical image.\nThis is based on the so-called localizer dataset.\nIt shows activation related to a mental computation task,\nas opposed to narrative sentence reading/listening.\n\nAuthor: Bertrand.thirion, Virgile Fritsch, 2014--2015\n\n\n"
      ],
      "metadata": {}
    },
    {
      "outputs": [],
      "execution_count": null,
      "cell_type": "code",
      "source": [
        "from nilearn import datasets\nfrom nilearn.input_data import NiftiMasker"
      ],
      "metadata": {
        "collapsed": false
      }
    },
    {
      "cell_type": "markdown",
      "source": [
        "Prepare some images for a simple t test\n----------------------------------------\nThis is a simple manually performed second level analysis\n\n"
      ],
      "metadata": {}
    },
    {
      "outputs": [],
      "execution_count": null,
      "cell_type": "code",
      "source": [
        "n_samples = 20\nlocalizer_dataset = datasets.fetch_localizer_calculation_task(\n    n_subjects=n_samples)\n\n# mask data\nnifti_masker = NiftiMasker(\n    smoothing_fwhm=5,\n    memory='nilearn_cache', memory_level=1)  # cache options\ncmap_filenames = localizer_dataset.cmaps\nfmri_masked = nifti_masker.fit_transform(cmap_filenames)"
      ],
      "metadata": {
        "collapsed": false
      }
    },
    {
      "cell_type": "markdown",
      "source": [
        "Perform the second level analysis\n----------------------------------\nperform a one-sample test on these values\n\n"
      ],
      "metadata": {}
    },
    {
      "outputs": [],
      "execution_count": null,
      "cell_type": "code",
      "source": [
        "from scipy.stats import ttest_1samp\n_, p_values = ttest_1samp(fmri_masked, 0)"
      ],
      "metadata": {
        "collapsed": false
      }
    },
    {
      "cell_type": "markdown",
      "source": [
        "z-transform of p-values\n\n"
      ],
      "metadata": {}
    },
    {
      "outputs": [],
      "execution_count": null,
      "cell_type": "code",
      "source": [
        "from nistats.utils import z_score\nz_map = nifti_masker.inverse_transform(z_score(p_values))"
      ],
      "metadata": {
        "collapsed": false
      }
    },
    {
      "cell_type": "markdown",
      "source": [
        "Threshold the resulting map:\nfalse positive rate < .001, cluster size > 10 voxels\n\n"
      ],
      "metadata": {}
    },
    {
      "outputs": [],
      "execution_count": null,
      "cell_type": "code",
      "source": [
        "from nistats.thresholding import map_threshold\nthresholded_map1, threshold1 = map_threshold(\n    z_map, threshold=.001, height_control='fpr', cluster_threshold=10)"
      ],
      "metadata": {
        "collapsed": false
      }
    },
    {
      "cell_type": "markdown",
      "source": [
        "Now use FDR <.05, no cluster-level threshold\n\n"
      ],
      "metadata": {}
    },
    {
      "outputs": [],
      "execution_count": null,
      "cell_type": "code",
      "source": [
        "thresholded_map2, threshold2 = map_threshold(\n    z_map, threshold=.05, height_control='fdr')"
      ],
      "metadata": {
        "collapsed": false
      }
    },
    {
      "cell_type": "markdown",
      "source": [
        "Visualize the results\n\n"
      ],
      "metadata": {}
    },
    {
      "outputs": [],
      "execution_count": null,
      "cell_type": "code",
      "source": [
        "from nilearn import plotting\ndisplay = plotting.plot_stat_map(z_map, title='Raw z map')\nplotting.plot_stat_map(\n    thresholded_map1, cut_coords=display.cut_coords, threshold=threshold1,\n    title='Thresholded z map, fpr <.001, clusters > 10 voxels')\nplotting.plot_stat_map(thresholded_map2, cut_coords=display.cut_coords,\n                       title='Thresholded z map, expected fdr = .05',\n                       threshold=threshold2)\n\nplotting.show()"
      ],
      "metadata": {
        "collapsed": false
      }
    }
  ],
  "metadata": {
    "kernelspec": {
      "language": "python",
      "display_name": "Python 3",
      "name": "python3"
    },
    "language_info": {
      "name": "python",
      "file_extension": ".py",
      "pygments_lexer": "ipython3",
      "version": "3.5.4",
      "codemirror_mode": {
        "version": 3,
        "name": "ipython"
      },
      "mimetype": "text/x-python",
      "nbconvert_exporter": "python"
    }
  }
}