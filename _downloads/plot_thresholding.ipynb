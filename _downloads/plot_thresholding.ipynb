{
  "cells": [
    {
      "cell_type": "code",
      "execution_count": null,
      "metadata": {
        "collapsed": false
      },
      "outputs": [],
      "source": [
        "%matplotlib inline"
      ]
    },
    {
      "cell_type": "markdown",
      "metadata": {},
      "source": [
        "\nExample of simple second level analysis\n=======================================\n\nPerform a one-sample t-test on a bunch of images\n(a.k.a. second-level analyis in fMRI) and threshold a statistical image.\nThis is based on the so-called localizer dataset.\nIt shows activation related to a mental computation task,\nas opposed to narrative sentence reading/listening.\n\n\n"
      ]
    },
    {
      "cell_type": "code",
      "execution_count": null,
      "metadata": {
        "collapsed": false
      },
      "outputs": [],
      "source": [
        "from nilearn import datasets\nfrom nilearn.input_data import NiftiMasker"
      ]
    },
    {
      "cell_type": "markdown",
      "metadata": {},
      "source": [
        "Prepare some images for a simple t test\n----------------------------------------\nThis is a simple manually performed second level analysis\n\n"
      ]
    },
    {
      "cell_type": "code",
      "execution_count": null,
      "metadata": {
        "collapsed": false
      },
      "outputs": [],
      "source": [
        "n_samples = 20\nlocalizer_dataset = datasets.fetch_localizer_calculation_task(\n    n_subjects=n_samples)\n\n# mask data\nnifti_masker = NiftiMasker(\n    smoothing_fwhm=5,\n    memory='nilearn_cache', memory_level=1)  # cache options\ncmap_filenames = localizer_dataset.cmaps"
      ]
    },
    {
      "cell_type": "markdown",
      "metadata": {},
      "source": [
        "Perform the second level analysis\n----------------------------------\nperform a one-sample test on these values\n\n"
      ]
    },
    {
      "cell_type": "code",
      "execution_count": null,
      "metadata": {
        "collapsed": false
      },
      "outputs": [],
      "source": [
        "import pandas as pd\ndesign_matrix = pd.DataFrame([1] * n_samples, columns=['intercept'])\n\nfrom nistats.second_level_model import SecondLevelModel\nsecond_level_model = SecondLevelModel().fit(\n    cmap_filenames, design_matrix=design_matrix)\nz_map = second_level_model.compute_contrast(output_type='z_score')"
      ]
    },
    {
      "cell_type": "markdown",
      "metadata": {},
      "source": [
        "Threshold the resulting map:\nfalse positive rate < .001, cluster size > 10 voxels\n\n"
      ]
    },
    {
      "cell_type": "code",
      "execution_count": null,
      "metadata": {
        "collapsed": false
      },
      "outputs": [],
      "source": [
        "from nistats.thresholding import map_threshold\nthresholded_map1, threshold1 = map_threshold(\n    z_map, threshold=.001, height_control='fpr', cluster_threshold=10)"
      ]
    },
    {
      "cell_type": "markdown",
      "metadata": {},
      "source": [
        "Now use FDR <.05, no cluster-level threshold\n\n"
      ]
    },
    {
      "cell_type": "code",
      "execution_count": null,
      "metadata": {
        "collapsed": false
      },
      "outputs": [],
      "source": [
        "thresholded_map2, threshold2 = map_threshold(\n    z_map, threshold=.05, height_control='fdr')"
      ]
    },
    {
      "cell_type": "markdown",
      "metadata": {},
      "source": [
        "Visualize the results\n\n"
      ]
    },
    {
      "cell_type": "code",
      "execution_count": null,
      "metadata": {
        "collapsed": false
      },
      "outputs": [],
      "source": [
        "from nilearn import plotting\ndisplay = plotting.plot_stat_map(z_map, title='Raw z map')\nplotting.plot_stat_map(\n    thresholded_map1, cut_coords=display.cut_coords, threshold=threshold1,\n    title='Thresholded z map, fpr <.001, clusters > 10 voxels')\nplotting.plot_stat_map(thresholded_map2, cut_coords=display.cut_coords,\n                       title='Thresholded z map, expected fdr = .05',\n                       threshold=threshold2)\n\nplotting.show()"
      ]
    }
  ],
  "metadata": {
    "kernelspec": {
      "display_name": "Python 3",
      "language": "python",
      "name": "python3"
    },
    "language_info": {
      "codemirror_mode": {
        "name": "ipython",
        "version": 3
      },
      "file_extension": ".py",
      "mimetype": "text/x-python",
      "name": "python",
      "nbconvert_exporter": "python",
      "pygments_lexer": "ipython3",
      "version": "3.6.0"
    }
  },
  "nbformat": 4,
  "nbformat_minor": 0
}