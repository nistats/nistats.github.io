{
  "nbformat_minor": 0, 
  "nbformat": 4, 
  "cells": [
    {
      "execution_count": null, 
      "cell_type": "code", 
      "source": [
        "%matplotlib inline"
      ], 
      "outputs": [], 
      "metadata": {
        "collapsed": false
      }
    }, 
    {
      "source": [
        "\nExample of generic design in second-level models\n================================================\n\nThis example shows the results obtained in a group analysis using a more\ncomplex contrast than a one- or two-sample t test.\nWe use the [left button press (auditory cue)] task from the Localizer\ndataset and seek association between the contrast values and a variate\nthat measures the speed of pseudo-word reading. No confounding variate\nis included in the model.\n\n\n\n"
      ], 
      "cell_type": "markdown", 
      "metadata": {}
    }, 
    {
      "execution_count": null, 
      "cell_type": "code", 
      "source": [
        "# Author: Virgile Fritsch, Bertrand Thirion, 2014 -- 2018"
      ], 
      "outputs": [], 
      "metadata": {
        "collapsed": false
      }
    }, 
    {
      "source": [
        "Load Localizer contrast\n\n"
      ], 
      "cell_type": "markdown", 
      "metadata": {}
    }, 
    {
      "execution_count": null, 
      "cell_type": "code", 
      "source": [
        "from nilearn import datasets\nn_samples = 94\nlocalizer_dataset = datasets.fetch_localizer_contrasts(\n    ['left button press (auditory cue)'], n_subjects=n_samples)"
      ], 
      "outputs": [], 
      "metadata": {
        "collapsed": false
      }
    }, 
    {
      "source": [
        "print basic information on the dataset\n\n"
      ], 
      "cell_type": "markdown", 
      "metadata": {}
    }, 
    {
      "execution_count": null, 
      "cell_type": "code", 
      "source": [
        "print('First contrast nifti image (3D) is located at: %s' %\n      localizer_dataset.cmaps[0])"
      ], 
      "outputs": [], 
      "metadata": {
        "collapsed": false
      }
    }, 
    {
      "source": [
        "Load the behavioral variable\n\n"
      ], 
      "cell_type": "markdown", 
      "metadata": {}
    }, 
    {
      "execution_count": null, 
      "cell_type": "code", 
      "source": [
        "tested_var = localizer_dataset.ext_vars['pseudo']\nprint(tested_var)"
      ], 
      "outputs": [], 
      "metadata": {
        "collapsed": false
      }
    }, 
    {
      "source": [
        "Quality check / Remove subjects with bad tested variate\n\n"
      ], 
      "cell_type": "markdown", 
      "metadata": {}
    }, 
    {
      "execution_count": null, 
      "cell_type": "code", 
      "source": [
        "import numpy as np\nmask_quality_check = np.where(tested_var != b'None')[0]\nn_samples = mask_quality_check.size\ncontrast_map_filenames = [localizer_dataset.cmaps[i]\n                          for i in mask_quality_check]\ntested_var = tested_var[mask_quality_check].astype(float).reshape((-1, 1))\nprint(\"Actual number of subjects after quality check: %d\" % n_samples)"
      ], 
      "outputs": [], 
      "metadata": {
        "collapsed": false
      }
    }, 
    {
      "source": [
        "Estimate second level model\n---------------------------\nWe define the input maps and the design matrix for the second level model\nand fit it.\n\n"
      ], 
      "cell_type": "markdown", 
      "metadata": {}
    }, 
    {
      "execution_count": null, 
      "cell_type": "code", 
      "source": [
        "import pandas as pd\ndesign_matrix = pd.DataFrame(\n    np.hstack((tested_var, np.ones_like(tested_var))),\n    columns=['fluency', 'intercept'])"
      ], 
      "outputs": [], 
      "metadata": {
        "collapsed": false
      }
    }, 
    {
      "source": [
        "Fit of the second-level model\n\n"
      ], 
      "cell_type": "markdown", 
      "metadata": {}
    }, 
    {
      "execution_count": null, 
      "cell_type": "code", 
      "source": [
        "from nistats.second_level_model import SecondLevelModel\nmodel = SecondLevelModel(smoothing_fwhm=5.0)\nmodel.fit(contrast_map_filenames, design_matrix=design_matrix)"
      ], 
      "outputs": [], 
      "metadata": {
        "collapsed": false
      }
    }, 
    {
      "source": [
        "To estimate the contrast is very simple. We can just provide the column\nname of the design matrix.\n\n"
      ], 
      "cell_type": "markdown", 
      "metadata": {}
    }, 
    {
      "execution_count": null, 
      "cell_type": "code", 
      "source": [
        "z_map = model.compute_contrast('fluency', output_type='z_score')"
      ], 
      "outputs": [], 
      "metadata": {
        "collapsed": false
      }
    }, 
    {
      "source": [
        "We compute the fdr-corrected p = 0.05 threshold for these data\n\n"
      ], 
      "cell_type": "markdown", 
      "metadata": {}
    }, 
    {
      "execution_count": null, 
      "cell_type": "code", 
      "source": [
        "from nistats.thresholding import map_threshold\n_, threshold = map_threshold(z_map, level=.05, height_control='fdr')"
      ], 
      "outputs": [], 
      "metadata": {
        "collapsed": false
      }
    }, 
    {
      "source": [
        "Let us plot the second level contrast at the computed thresholds \n\n"
      ], 
      "cell_type": "markdown", 
      "metadata": {}
    }, 
    {
      "execution_count": null, 
      "cell_type": "code", 
      "source": [
        "from nilearn import plotting\nplotting.plot_stat_map(\n    z_map, threshold=threshold, colorbar=True,\n    title='Group-level association between motor activity \\n'\n    'and reading fluency (fdr<0.05')\n\nplotting.show()"
      ], 
      "outputs": [], 
      "metadata": {
        "collapsed": false
      }
    }
  ], 
  "metadata": {
    "kernelspec": {
      "display_name": "Python 2", 
      "name": "python2", 
      "language": "python"
    }, 
    "language_info": {
      "mimetype": "text/x-python", 
      "nbconvert_exporter": "python", 
      "name": "python", 
      "file_extension": ".py", 
      "version": "2.7.15", 
      "pygments_lexer": "ipython2", 
      "codemirror_mode": {
        "version": 2, 
        "name": "ipython"
      }
    }
  }
}