{
  "nbformat_minor": 0, 
  "nbformat": 4, 
  "cells": [
    {
      "execution_count": null, 
      "cell_type": "code", 
      "source": [
        "%matplotlib inline"
      ], 
      "outputs": [], 
      "metadata": {
        "collapsed": false
      }
    }, 
    {
      "source": [
        "Example of hemodynamic reponse functions.\n=========================================\n\nPlot the hemodynamic reponse function (hrf) model in SPM together with\nthe hrf shape proposed by G.Glover, as well as their time and\ndispersion derivatives.\n\nRequires matplotlib.\n\nThe hrf is the filter that couples neural responses to the\nmetabolic-related changes in the MRI signal.  hrf models are simply\nphenomenological.\n\nIn current analysis frameworks, the choice of hrf model is essentially\nleft to the user. Fortunately, using spm or Glover model does not make\na huge difference.  Adding derivatives should be considered whenever\ntiming information has some degree of uncertainty. It is actually\nuseful to detect timing issues.\n\n\n"
      ], 
      "cell_type": "markdown", 
      "metadata": {}
    }, 
    {
      "source": [
        "Set up some parameters for model display \n----------------------------------------\n\nTo get an impulse reponse, we simulate a single event occurring at time t=0, with duration 1s.\n\n"
      ], 
      "cell_type": "markdown", 
      "metadata": {}
    }, 
    {
      "execution_count": null, 
      "cell_type": "code", 
      "source": [
        "import numpy as np\nframe_times = np.linspace(0, 30, 61)\nonset, amplitude, duration = 0., 1., 1.\nexp_condition = np.array((onset, duration, amplitude)).reshape(3, 1)"
      ], 
      "outputs": [], 
      "metadata": {
        "collapsed": false
      }
    }, 
    {
      "source": [
        "Sample this on a fris for display\n\n"
      ], 
      "cell_type": "markdown", 
      "metadata": {}
    }, 
    {
      "execution_count": null, 
      "cell_type": "code", 
      "source": [
        "stim = np.zeros_like(frame_times)\nstim[(frame_times > onset) * (frame_times <= onset + duration)] = amplitude"
      ], 
      "outputs": [], 
      "metadata": {
        "collapsed": false
      }
    }, 
    {
      "source": [
        "Define the candidate hrf models\n\n"
      ], 
      "cell_type": "markdown", 
      "metadata": {}
    }, 
    {
      "execution_count": null, 
      "cell_type": "code", 
      "source": [
        "hrf_models = [None, 'glover + derivative', 'glover + derivative + dispersion']"
      ], 
      "outputs": [], 
      "metadata": {
        "collapsed": false
      }
    }, 
    {
      "source": [
        "sample the hrf\n--------------\n\n"
      ], 
      "cell_type": "markdown", 
      "metadata": {}
    }, 
    {
      "execution_count": null, 
      "cell_type": "code", 
      "source": [
        "from nistats import hemodynamic_models\nimport matplotlib.pyplot as plt\n\nfig = plt.figure(figsize=(9, 4))\nfor i, hrf_model in enumerate(hrf_models):\n    # obtain the signal of interest by convolution\n    signal, name = hemodynamic_models.compute_regressor(\n        exp_condition, hrf_model, frame_times, con_id='main',\n        oversampling=16)\n\n    # plot this\n    plt.subplot(1, 3, i + 1)\n    plt.fill(frame_times, stim, 'k', alpha=.5, label='stimulus')\n    for j in range(signal.shape[1]):\n        plt.plot(frame_times, signal.T[j], label=name[j])\n    plt.xlabel('time (s)')\n    plt.legend(loc=1)\n    plt.title(hrf_model)\n\n# adjust the plot\nplt.subplots_adjust(bottom=.12)\nplt.show()"
      ], 
      "outputs": [], 
      "metadata": {
        "collapsed": false
      }
    }
  ], 
  "metadata": {
    "kernelspec": {
      "display_name": "Python 2", 
      "name": "python2", 
      "language": "python"
    }, 
    "language_info": {
      "mimetype": "text/x-python", 
      "nbconvert_exporter": "python", 
      "name": "python", 
      "file_extension": ".py", 
      "version": "2.7.15", 
      "pygments_lexer": "ipython2", 
      "codemirror_mode": {
        "version": 2, 
        "name": "ipython"
      }
    }
  }
}