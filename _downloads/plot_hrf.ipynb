{
  "cells": [
    {
      "cell_type": "code",
      "execution_count": null,
      "metadata": {
        "collapsed": false
      },
      "outputs": [],
      "source": [
        "%matplotlib inline"
      ]
    },
    {
      "cell_type": "markdown",
      "metadata": {},
      "source": [
        "\nExample of hemodynamic reponse functions.\n=========================================\n\nPlot the hrf model in SPM together with the hrf shape proposed by\nG.Glover, as well as their time and dispersion derivatives.\n\nRequires matplotlib\n\n\n"
      ]
    },
    {
      "cell_type": "code",
      "execution_count": null,
      "metadata": {
        "collapsed": false
      },
      "outputs": [],
      "source": [
        "import numpy as np\nimport matplotlib.pyplot as plt\nfrom nistats import hemodynamic_models"
      ]
    },
    {
      "cell_type": "markdown",
      "metadata": {},
      "source": [
        "A first step: looking at our data\n----------------------------------\n\nLet's quickly plot this file:\n\n"
      ]
    },
    {
      "cell_type": "code",
      "execution_count": null,
      "metadata": {
        "collapsed": false
      },
      "outputs": [],
      "source": [
        "frame_times = np.linspace(0, 30, 61)\nonset, amplitude, duration = 0., 1., 1.\nstim = np.zeros_like(frame_times)\nstim[(frame_times > onset) * (frame_times <= onset + duration)] = amplitude\nexp_condition = np.array((onset, duration, amplitude)).reshape(3, 1)\nhrf_models = [None, 'glover + derivative', 'glover + derivative + dispersion']"
      ]
    },
    {
      "cell_type": "markdown",
      "metadata": {},
      "source": [
        "sample the hrf\n\n"
      ]
    },
    {
      "cell_type": "code",
      "execution_count": null,
      "metadata": {
        "collapsed": false
      },
      "outputs": [],
      "source": [
        "fig = plt.figure(figsize=(9, 4))\nfor i, hrf_model in enumerate(hrf_models):\n    signal, name = hemodynamic_models.compute_regressor(\n        exp_condition, hrf_model, frame_times, con_id='main',\n        oversampling=16)\n\n    plt.subplot(1, 3, i + 1)\n    plt.fill(frame_times, stim, 'k', alpha=.5, label='stimulus')\n    for j in range(signal.shape[1]):\n        plt.plot(frame_times, signal.T[j], label=name[j])\n    plt.xlabel('time (s)')\n    plt.legend(loc=1)\n    plt.title(hrf_model)\n\nplt.subplots_adjust(bottom=.12)\nplt.show()"
      ]
    }
  ],
  "metadata": {
    "kernelspec": {
      "display_name": "Python 3",
      "language": "python",
      "name": "python3"
    },
    "language_info": {
      "codemirror_mode": {
        "name": "ipython",
        "version": 3
      },
      "file_extension": ".py",
      "mimetype": "text/x-python",
      "name": "python",
      "nbconvert_exporter": "python",
      "pygments_lexer": "ipython3",
      "version": "3.6.0"
    }
  },
  "nbformat": 4,
  "nbformat_minor": 0
}