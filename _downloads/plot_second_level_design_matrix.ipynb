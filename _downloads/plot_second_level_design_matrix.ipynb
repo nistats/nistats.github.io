{
  "metadata": {
    "kernelspec": {
      "name": "python3",
      "display_name": "Python 3",
      "language": "python"
    },
    "language_info": {
      "nbconvert_exporter": "python",
      "name": "python",
      "mimetype": "text/x-python",
      "file_extension": ".py",
      "pygments_lexer": "ipython3",
      "version": "3.5.0",
      "codemirror_mode": {
        "name": "ipython",
        "version": 3
      }
    }
  },
  "nbformat_minor": 0,
  "cells": [
    {
      "cell_type": "code",
      "metadata": {
        "collapsed": false
      },
      "execution_count": null,
      "outputs": [],
      "source": [
        "%matplotlib inline"
      ]
    },
    {
      "cell_type": "markdown",
      "metadata": {},
      "source": [
        "Example of second level design matrix\n=====================================\n\nThe shows how a second-level design matrix is specified: assuming that\nthe data refer to a group of individuals, with one image per subject,\nthe design matrix typically holds the characteristics of each\nindividual.\n\nThis is used in a second-level analysis to assess the impact of these\ncharacteristics on brain signals.\n\nRequires matplotlib.\n\n\n"
      ]
    },
    {
      "cell_type": "code",
      "metadata": {
        "collapsed": false
      },
      "execution_count": null,
      "outputs": [],
      "source": [
        "try:\n    import matplotlib.pyplot as plt\nexcept ImportError:\n    raise RuntimeError(\"This script needs the matplotlib library\")"
      ]
    },
    {
      "cell_type": "markdown",
      "metadata": {},
      "source": [
        "Create a simple experimental paradigm\n--------------------------------------\nWe want to get the group result of a contrast for 20 subjects\n\n"
      ]
    },
    {
      "cell_type": "code",
      "metadata": {
        "collapsed": false
      },
      "execution_count": null,
      "outputs": [],
      "source": [
        "n_subjects = 20\nsubjects_label = ['sub-%02d' % i for i in range(1, n_subjects + 1)]"
      ]
    },
    {
      "cell_type": "markdown",
      "metadata": {},
      "source": [
        "Specify extra information about the subjects to create confounders\nWithout confounders the design matrix would correspond to a one sample test\n\n"
      ]
    },
    {
      "cell_type": "code",
      "metadata": {
        "collapsed": false
      },
      "execution_count": null,
      "outputs": [],
      "source": [
        "import pandas as pd\nextra_info_subjects = pd.DataFrame({'subject_label': subjects_label,\n                                    'age': range(15, 15 + n_subjects),\n                                    'sex': [0, 1] * int(n_subjects / 2)})"
      ]
    },
    {
      "cell_type": "markdown",
      "metadata": {},
      "source": [
        "Create a second level design matrix\n-----------------------------------\n\n"
      ]
    },
    {
      "cell_type": "code",
      "metadata": {
        "collapsed": false
      },
      "execution_count": null,
      "outputs": [],
      "source": [
        "from nistats.design_matrix import make_second_level_design_matrix\ndesign_matrix = make_second_level_design_matrix(subjects_label, extra_info_subjects)"
      ]
    },
    {
      "cell_type": "markdown",
      "metadata": {},
      "source": [
        "plot the results\n\n"
      ]
    },
    {
      "cell_type": "code",
      "metadata": {
        "collapsed": false
      },
      "execution_count": null,
      "outputs": [],
      "source": [
        "from nistats.reporting import plot_design_matrix\nax = plot_design_matrix(design_matrix)\nax.set_title('Second level design matrix', fontsize=12)\nax.set_ylabel('maps')\nplt.tight_layout()\nplt.show()"
      ]
    }
  ],
  "nbformat": 4
}