{
  "nbformat_minor": 0, 
  "nbformat": 4, 
  "cells": [
    {
      "execution_count": null, 
      "cell_type": "code", 
      "source": [
        "%matplotlib inline"
      ], 
      "outputs": [], 
      "metadata": {
        "collapsed": false
      }
    }, 
    {
      "source": [
        "Example of second level design matrix\n=====================================\n\nThe shows how a second-level design matrix is specified: assuming that\nthe data refer to a group of individuals, with one image per subject,\nthe design matrix typically holds the characteristics of each\nindividual.\n\nThis is used in a second-level analysis to assess the impact of these\ncharacteristics on brain signals.\n\nRequires matplotlib.\n\n\n"
      ], 
      "cell_type": "markdown", 
      "metadata": {}
    }, 
    {
      "execution_count": null, 
      "cell_type": "code", 
      "source": [
        "try:\n    import matplotlib.pyplot as plt\nexcept ImportError:\n    raise RuntimeError(\"This script needs the matplotlib library\")"
      ], 
      "outputs": [], 
      "metadata": {
        "collapsed": false
      }
    }, 
    {
      "source": [
        "Create a simple experimental paradigm\n--------------------------------------\nWe want to get the group result of a contrast for 20 subjects\n\n"
      ], 
      "cell_type": "markdown", 
      "metadata": {}
    }, 
    {
      "execution_count": null, 
      "cell_type": "code", 
      "source": [
        "n_subjects = 20\nsubjects_label = ['sub-%02d' % i for i in range(1, n_subjects + 1)]"
      ], 
      "outputs": [], 
      "metadata": {
        "collapsed": false
      }
    }, 
    {
      "source": [
        "Specify extra information about the subjects to create confounders\nWithout confounders the design matrix would correspond to a one sample test\n\n"
      ], 
      "cell_type": "markdown", 
      "metadata": {}
    }, 
    {
      "execution_count": null, 
      "cell_type": "code", 
      "source": [
        "import pandas as pd\nextra_info_subjects = pd.DataFrame({'subject_label': subjects_label,\n                                    'age': range(15, 15 + n_subjects),\n                                    'sex': [0, 1] * int(n_subjects / 2)})"
      ], 
      "outputs": [], 
      "metadata": {
        "collapsed": false
      }
    }, 
    {
      "source": [
        "Create a second level design matrix\n-----------------------------------\n\n"
      ], 
      "cell_type": "markdown", 
      "metadata": {}
    }, 
    {
      "execution_count": null, 
      "cell_type": "code", 
      "source": [
        "from nistats.design_matrix import make_second_level_design_matrix\ndesign_matrix = make_second_level_design_matrix(subjects_label, extra_info_subjects)"
      ], 
      "outputs": [], 
      "metadata": {
        "collapsed": false
      }
    }, 
    {
      "source": [
        "plot the results\n\n"
      ], 
      "cell_type": "markdown", 
      "metadata": {}
    }, 
    {
      "execution_count": null, 
      "cell_type": "code", 
      "source": [
        "from nistats.reporting import plot_design_matrix\nax = plot_design_matrix(design_matrix)\nax.set_title('Second level design matrix', fontsize=12)\nax.set_ylabel('maps')\nplt.tight_layout()\nplt.show()"
      ], 
      "outputs": [], 
      "metadata": {
        "collapsed": false
      }
    }
  ], 
  "metadata": {
    "kernelspec": {
      "display_name": "Python 2", 
      "name": "python2", 
      "language": "python"
    }, 
    "language_info": {
      "mimetype": "text/x-python", 
      "nbconvert_exporter": "python", 
      "name": "python", 
      "file_extension": ".py", 
      "version": "2.7.15", 
      "pygments_lexer": "ipython2", 
      "codemirror_mode": {
        "version": 2, 
        "name": "ipython"
      }
    }
  }
}