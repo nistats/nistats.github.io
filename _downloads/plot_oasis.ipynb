{
  "nbformat_minor": 0, 
  "nbformat": 4, 
  "cells": [
    {
      "execution_count": null, 
      "cell_type": "code", 
      "source": [
        "%matplotlib inline"
      ], 
      "outputs": [], 
      "metadata": {
        "collapsed": false
      }
    }, 
    {
      "source": [
        "Voxel-Based Morphometry on Oasis dataset\n========================================\n\nThis example uses Voxel-Based Morphometry (VBM) to study the relationship\nbetween aging, sex and gray matter density.\n\nThe data come from the `OASIS <http://www.oasis-brains.org/>`_ project.\nIf you use it, you need to agree with the data usage agreement available\non the website.\n\nIt has been run through a standard VBM pipeline (using SPM8 and\nNewSegment) to create VBM maps, which we study here.\n\nVBM analysis of aging\n---------------------\n\nWe run a standard GLM analysis to study the association between age\nand gray matter density from the VBM data. We use only 100 subjects\nfrom the OASIS dataset to limit the memory usage.\n\nNote that more power would be obtained from using a larger sample of subjects.\n\n"
      ], 
      "cell_type": "markdown", 
      "metadata": {}
    }, 
    {
      "execution_count": null, 
      "cell_type": "code", 
      "source": [
        "# Authors: Bertrand Thirion, <bertrand.thirion@inria.fr>, July 2018\n#          Elvis Dhomatob, <elvis.dohmatob@inria.fr>, Apr. 2014\n#          Virgile Fritsch, <virgile.fritsch@inria.fr>, Apr 2014\n#          Gael Varoquaux, Apr 2014\n\n\nn_subjects = 100  # more subjects requires more memory"
      ], 
      "outputs": [], 
      "metadata": {
        "collapsed": false
      }
    }, 
    {
      "source": [
        "Load Oasis dataset\n------------------\n\n"
      ], 
      "cell_type": "markdown", 
      "metadata": {}
    }, 
    {
      "execution_count": null, 
      "cell_type": "code", 
      "source": [
        "from nilearn import datasets\noasis_dataset = datasets.fetch_oasis_vbm(n_subjects=n_subjects)\ngray_matter_map_filenames = oasis_dataset.gray_matter_maps\nage = oasis_dataset.ext_vars['age'].astype(float)"
      ], 
      "outputs": [], 
      "metadata": {
        "collapsed": false
      }
    }, 
    {
      "source": [
        "Sex is encoded as 'M' or 'F'. make it a binary variable\n\n"
      ], 
      "cell_type": "markdown", 
      "metadata": {}
    }, 
    {
      "execution_count": null, 
      "cell_type": "code", 
      "source": [
        "sex = oasis_dataset.ext_vars['mf'] == b'F'"
      ], 
      "outputs": [], 
      "metadata": {
        "collapsed": false
      }
    }, 
    {
      "source": [
        "Print basic information on the dataset\n\n"
      ], 
      "cell_type": "markdown", 
      "metadata": {}
    }, 
    {
      "execution_count": null, 
      "cell_type": "code", 
      "source": [
        "print('First gray-matter anatomy image (3D) is located at: %s' %\n      oasis_dataset.gray_matter_maps[0])  # 3D data\nprint('First white-matter anatomy image (3D) is located at: %s' %\n      oasis_dataset.white_matter_maps[0])  # 3D data"
      ], 
      "outputs": [], 
      "metadata": {
        "collapsed": false
      }
    }, 
    {
      "source": [
        "Get a mask image: A mask of the  cortex of the ICBM template\n\n"
      ], 
      "cell_type": "markdown", 
      "metadata": {}
    }, 
    {
      "execution_count": null, 
      "cell_type": "code", 
      "source": [
        "gm_mask = datasets.fetch_icbm152_brain_gm_mask()"
      ], 
      "outputs": [], 
      "metadata": {
        "collapsed": false
      }
    }, 
    {
      "source": [
        "Resample the images, since this mask has a different resolution\n\n"
      ], 
      "cell_type": "markdown", 
      "metadata": {}
    }, 
    {
      "execution_count": null, 
      "cell_type": "code", 
      "source": [
        "from nilearn.image import resample_to_img\nmask_img = resample_to_img(\n    gm_mask, gray_matter_map_filenames[0], interpolation='nearest')"
      ], 
      "outputs": [], 
      "metadata": {
        "collapsed": false
      }
    }, 
    {
      "source": [
        "Analyse data\n------------\n\nFirst create an adequate design matrix with three columns: 'age',\n'sex', 'intercept'.\n\n"
      ], 
      "cell_type": "markdown", 
      "metadata": {}
    }, 
    {
      "execution_count": null, 
      "cell_type": "code", 
      "source": [
        "import pandas as pd\nimport numpy as np\nintercept = np.ones(n_subjects)\ndesign_matrix = pd.DataFrame(np.vstack((age, sex, intercept)).T,\n                             columns=['age', 'sex', 'intercept'])"
      ], 
      "outputs": [], 
      "metadata": {
        "collapsed": false
      }
    }, 
    {
      "source": [
        "Plot the design matrix\n\n"
      ], 
      "cell_type": "markdown", 
      "metadata": {}
    }, 
    {
      "execution_count": null, 
      "cell_type": "code", 
      "source": [
        "from nistats.reporting import plot_design_matrix\nax = plot_design_matrix(design_matrix)\nax.set_title('Second level design matrix', fontsize=12)\nax.set_ylabel('maps')"
      ], 
      "outputs": [], 
      "metadata": {
        "collapsed": false
      }
    }, 
    {
      "source": [
        "Specify and fit the second-level model when loading the data, we\nsmooth a little bit to improve statistical behavior\n\n"
      ], 
      "cell_type": "markdown", 
      "metadata": {}
    }, 
    {
      "execution_count": null, 
      "cell_type": "code", 
      "source": [
        "from nistats.second_level_model import SecondLevelModel\nsecond_level_model = SecondLevelModel(smoothing_fwhm=2.0, mask=mask_img)\nsecond_level_model.fit(gray_matter_map_filenames,\n                       design_matrix=design_matrix)"
      ], 
      "outputs": [], 
      "metadata": {
        "collapsed": false
      }
    }, 
    {
      "source": [
        "Estimate the contrast is very simple. We can just provide the column\nname of the design matrix.\n\n"
      ], 
      "cell_type": "markdown", 
      "metadata": {}
    }, 
    {
      "execution_count": null, 
      "cell_type": "code", 
      "source": [
        "z_map = second_level_model.compute_contrast(second_level_contrast=[1, 0, 0],\n                                            output_type='z_score')"
      ], 
      "outputs": [], 
      "metadata": {
        "collapsed": false
      }
    }, 
    {
      "source": [
        "We threshold the second level contrast at uncorrected p < 0.001 and plot it.\nFirst compute the threshold.\n\n"
      ], 
      "cell_type": "markdown", 
      "metadata": {}
    }, 
    {
      "execution_count": null, 
      "cell_type": "code", 
      "source": [
        "from nistats.thresholding import map_threshold\n_, threshold = map_threshold(\n    z_map, level=.05, height_control='fdr')\nprint('The FDR=.05-corrected threshold is: %.3g' % threshold)"
      ], 
      "outputs": [], 
      "metadata": {
        "collapsed": false
      }
    }, 
    {
      "source": [
        "The plot it\n\n"
      ], 
      "cell_type": "markdown", 
      "metadata": {}
    }, 
    {
      "execution_count": null, 
      "cell_type": "code", 
      "source": [
        "from nilearn import plotting\ndisplay = plotting.plot_stat_map(\n    z_map, threshold=threshold, colorbar=True, display_mode='z',\n    cut_coords=[-4, 26],\n    title='age effect on grey matter density (FDR = .05)')\nplotting.show()"
      ], 
      "outputs": [], 
      "metadata": {
        "collapsed": false
      }
    }, 
    {
      "source": [
        "Can also study the effect of sex: compute the stat, compute the\nthreshold, plot the map\n\n"
      ], 
      "cell_type": "markdown", 
      "metadata": {}
    }, 
    {
      "execution_count": null, 
      "cell_type": "code", 
      "source": [
        "z_map = second_level_model.compute_contrast(second_level_contrast='sex',\n                                            output_type='z_score')\n_, threshold = map_threshold(\n    z_map, level=.05, height_control='fdr')\nplotting.plot_stat_map(\n    z_map, threshold=threshold, colorbar=True,\n    title='sex effect on grey matter density (FDR = .05)')"
      ], 
      "outputs": [], 
      "metadata": {
        "collapsed": false
      }
    }, 
    {
      "source": [
        "Note that there does not seem to be any significant effect of sex on\ngrey matter density on that dataset.\n\n"
      ], 
      "cell_type": "markdown", 
      "metadata": {}
    }
  ], 
  "metadata": {
    "kernelspec": {
      "display_name": "Python 2", 
      "name": "python2", 
      "language": "python"
    }, 
    "language_info": {
      "mimetype": "text/x-python", 
      "nbconvert_exporter": "python", 
      "name": "python", 
      "file_extension": ".py", 
      "version": "2.7.15", 
      "pygments_lexer": "ipython2", 
      "codemirror_mode": {
        "version": 2, 
        "name": "ipython"
      }
    }
  }
}