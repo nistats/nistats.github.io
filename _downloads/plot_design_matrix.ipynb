{
  "nbformat_minor": 0, 
  "nbformat": 4, 
  "cells": [
    {
      "execution_count": null, 
      "cell_type": "code", 
      "source": [
        "%matplotlib inline"
      ], 
      "outputs": [], 
      "metadata": {
        "collapsed": false
      }
    }, 
    {
      "source": [
        "\nExamples of design matrices\n===========================\n\nThree examples of design matrices specification and computation\n(event-related design, block design, FIR design)\n\nRequires matplotlib\n\nAuthor : Bertrand Thirion: 2009-2015\n\n"
      ], 
      "cell_type": "markdown", 
      "metadata": {}
    }, 
    {
      "execution_count": null, 
      "cell_type": "code", 
      "source": [
        "import numpy as np\n\ntry:\n    import matplotlib.pyplot as plt\nexcept ImportError:\n    raise RuntimeError(\"This script needs the matplotlib library\")\n\nfrom nistats.design_matrix import make_design_matrix\nfrom nistats.reporting import plot_design_matrix\nimport pandas as pd"
      ], 
      "outputs": [], 
      "metadata": {
        "collapsed": false
      }
    }, 
    {
      "source": [
        "Define parameters\n----------------------------------\nfirst we define parameters related to the images acquisition\n\n"
      ], 
      "cell_type": "markdown", 
      "metadata": {}
    }, 
    {
      "execution_count": null, 
      "cell_type": "code", 
      "source": [
        "tr = 1.0\nn_scans = 128\nframe_times = np.arange(n_scans) * tr"
      ], 
      "outputs": [], 
      "metadata": {
        "collapsed": false
      }
    }, 
    {
      "source": [
        "then we define parameters related to the experimental design\n\n"
      ], 
      "cell_type": "markdown", 
      "metadata": {}
    }, 
    {
      "execution_count": null, 
      "cell_type": "code", 
      "source": [
        "conditions = ['c0', 'c0', 'c0', 'c1', 'c1', 'c1', 'c3', 'c3', 'c3']\nonsets = [30., 70., 100., 10., 30., 90., 30., 40., 60.]\nmotion = np.cumsum(np.random.randn(n_scans, 6), 0)  # simulate motion\nadd_reg_names = ['tx', 'ty', 'tz', 'rx', 'ry', 'rz']"
      ], 
      "outputs": [], 
      "metadata": {
        "collapsed": false
      }
    }, 
    {
      "source": [
        "Create design matrices\n-------------------------------------\nThe same parameters allow us to obtain a variety of design matrices\nFirst we compute an event-related design matrix\n\n"
      ], 
      "cell_type": "markdown", 
      "metadata": {}
    }, 
    {
      "execution_count": null, 
      "cell_type": "code", 
      "source": [
        "paradigm = pd.DataFrame({'trial_type': conditions, 'onset': onsets})\n\nhrf_model = 'glover'\nX1 = make_design_matrix(\n    frame_times, paradigm, drift_model='polynomial', drift_order=3,\n    add_regs=motion, add_reg_names=add_reg_names, hrf_model=hrf_model)"
      ], 
      "outputs": [], 
      "metadata": {
        "collapsed": false
      }
    }, 
    {
      "source": [
        "Now we compute a block design matrix. We add duration to create the blocks.\n\n"
      ], 
      "cell_type": "markdown", 
      "metadata": {}
    }, 
    {
      "execution_count": null, 
      "cell_type": "code", 
      "source": [
        "duration = 7. * np.ones(len(conditions))\nparadigm = pd.DataFrame({'trial_type': conditions, 'onset': onsets,\n                         'duration': duration})\n\nX2 = make_design_matrix(frame_times, paradigm, drift_model='polynomial',\n                        drift_order=3, hrf_model=hrf_model)"
      ], 
      "outputs": [], 
      "metadata": {
        "collapsed": false
      }
    }, 
    {
      "source": [
        "Finally we compute a FIR model\n\n"
      ], 
      "cell_type": "markdown", 
      "metadata": {}
    }, 
    {
      "execution_count": null, 
      "cell_type": "code", 
      "source": [
        "paradigm = pd.DataFrame({'trial_type': conditions, 'onset': onsets})\nhrf_model = 'FIR'\nX3 = make_design_matrix(frame_times, paradigm, hrf_model='fir',\n                        drift_model='polynomial', drift_order=3,\n                        fir_delays=np.arange(1, 6))"
      ], 
      "outputs": [], 
      "metadata": {
        "collapsed": false
      }
    }, 
    {
      "source": [
        "Here the three designs side by side\n\n"
      ], 
      "cell_type": "markdown", 
      "metadata": {}
    }, 
    {
      "execution_count": null, 
      "cell_type": "code", 
      "source": [
        "fig, (ax1, ax2, ax3) = plt.subplots(figsize=(10, 6), nrows=1, ncols=3)\nplot_design_matrix(X1, ax=ax1)\nax1.set_title('Event-related design matrix', fontsize=12)\nplot_design_matrix(X2, ax=ax2)\nax2.set_title('Block design matrix', fontsize=12)\nplot_design_matrix(X3, ax=ax3)\nax3.set_title('FIR design matrix', fontsize=12)\nplt.subplots_adjust(left=0.08, top=0.9, bottom=0.21, right=0.96, wspace=0.3)\nplt.show()"
      ], 
      "outputs": [], 
      "metadata": {
        "collapsed": false
      }
    }
  ], 
  "metadata": {
    "kernelspec": {
      "display_name": "Python 2", 
      "name": "python2", 
      "language": "python"
    }, 
    "language_info": {
      "mimetype": "text/x-python", 
      "nbconvert_exporter": "python", 
      "name": "python", 
      "file_extension": ".py", 
      "version": "2.7.12", 
      "pygments_lexer": "ipython2", 
      "codemirror_mode": {
        "version": 2, 
        "name": "ipython"
      }
    }
  }
}