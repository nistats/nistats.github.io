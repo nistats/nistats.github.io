{
  "metadata": {
    "kernelspec": {
      "name": "python3",
      "display_name": "Python 3",
      "language": "python"
    },
    "language_info": {
      "nbconvert_exporter": "python",
      "name": "python",
      "mimetype": "text/x-python",
      "file_extension": ".py",
      "pygments_lexer": "ipython3",
      "version": "3.5.0",
      "codemirror_mode": {
        "name": "ipython",
        "version": 3
      }
    }
  },
  "nbformat_minor": 0,
  "cells": [
    {
      "cell_type": "code",
      "metadata": {
        "collapsed": false
      },
      "execution_count": null,
      "outputs": [],
      "source": [
        "%matplotlib inline"
      ]
    },
    {
      "cell_type": "markdown",
      "metadata": {},
      "source": [
        "\nSecond-level fMRI model: one sample test\n========================================\n\nFull step-by-step example of fitting a GLM to perform a second-level analysis (one-sample test)\nand visualizing the results.\n\nMore specifically:\n\n1. A sequence of subject fMRI button press contrasts is downloaded.\n2. a mask of the useful brain volume is computed\n3. A one-sample t-test is applied to the brain maps\n\nWe focus on a given contrast of the localizer dataset: the motor response to left versus right button press. Both at the ndividual and group level, this is expected to elicit activity in the motor cortex (positive in the right hemisphere, negative in the left hemisphere).\n\n\n"
      ]
    },
    {
      "cell_type": "markdown",
      "metadata": {},
      "source": [
        "Fetch dataset\n--------------\nWe download a list of left vs right button press contrasts from a\nlocalizer dataset. Note that we fetc individual t-maps that represent the Bold activity estimate divided by the uncertainty about this estimate. \n\n"
      ]
    },
    {
      "cell_type": "code",
      "metadata": {
        "collapsed": false
      },
      "execution_count": null,
      "outputs": [],
      "source": [
        "from nilearn.datasets import fetch_localizer_contrasts\nn_subjects = 16\ndata = fetch_localizer_contrasts([\"left vs right button press\"], n_subjects,\n                                 get_tmaps=True)"
      ]
    },
    {
      "cell_type": "markdown",
      "metadata": {},
      "source": [
        "Display subject t_maps\n----------------------\nWe plot a grid with all the subjects t-maps thresholded at t = 2 for\nsimple visualization purposes. The button press effect is visible among\nall subjects\n\n"
      ]
    },
    {
      "cell_type": "code",
      "metadata": {
        "collapsed": false
      },
      "execution_count": null,
      "outputs": [],
      "source": [
        "from nilearn import plotting\nimport matplotlib.pyplot as plt\nsubjects = [subject_data[0] for subject_data in data['ext_vars']]\nfig, axes = plt.subplots(nrows=4, ncols=4)\nfor cidx, tmap in enumerate(data['tmaps']):\n    plotting.plot_glass_brain(tmap, colorbar=False, threshold=2.0,\n                              title=subjects[cidx],\n                              axes=axes[int(cidx / 4), int(cidx % 4)],\n                              plot_abs=False, display_mode='z')\nfig.suptitle('subjects t_map left-right button press')\nplt.show()"
      ]
    },
    {
      "cell_type": "markdown",
      "metadata": {},
      "source": [
        "Estimate second level model\n---------------------------\nWe define the input maps and the design matrix for the second level model\nand fit it.\n\n"
      ]
    },
    {
      "cell_type": "code",
      "metadata": {
        "collapsed": false
      },
      "execution_count": null,
      "outputs": [],
      "source": [
        "import pandas as pd\nsecond_level_input = data['cmaps']\ndesign_matrix = pd.DataFrame([1] * len(second_level_input),\n                             columns=['intercept'])"
      ]
    },
    {
      "cell_type": "markdown",
      "metadata": {},
      "source": [
        "Model specification and fit\n\n"
      ]
    },
    {
      "cell_type": "code",
      "metadata": {
        "collapsed": false
      },
      "execution_count": null,
      "outputs": [],
      "source": [
        "from nistats.second_level_model import SecondLevelModel\nsecond_level_model = SecondLevelModel(smoothing_fwhm=8.0)\nsecond_level_model = second_level_model.fit(second_level_input,\n                                            design_matrix=design_matrix)"
      ]
    },
    {
      "cell_type": "markdown",
      "metadata": {},
      "source": [
        "To estimate the contrast is very simple. We can just provide the column\nname of the design matrix.\n\n"
      ]
    },
    {
      "cell_type": "code",
      "metadata": {
        "collapsed": false
      },
      "execution_count": null,
      "outputs": [],
      "source": [
        "z_map = second_level_model.compute_contrast(output_type='z_score')"
      ]
    },
    {
      "cell_type": "markdown",
      "metadata": {},
      "source": [
        "We threshold the second level contrast at uncorrected p < 0.001 and plot\n\n"
      ]
    },
    {
      "cell_type": "code",
      "metadata": {
        "collapsed": false
      },
      "execution_count": null,
      "outputs": [],
      "source": [
        "from scipy.stats import norm\np_val = 0.001\np001_unc = norm.isf(p_val)\ndisplay = plotting.plot_glass_brain(\n    z_map, threshold=p001_unc, colorbar=True, display_mode='z', plot_abs=False,\n    title='group left-right button press (unc p<0.001')"
      ]
    },
    {
      "cell_type": "markdown",
      "metadata": {},
      "source": [
        "As expected, we find the motor cortex\n\n"
      ]
    },
    {
      "cell_type": "code",
      "metadata": {
        "collapsed": false
      },
      "execution_count": null,
      "outputs": [],
      "source": [
        "plotting.show()"
      ]
    }
  ],
  "nbformat": 4
}