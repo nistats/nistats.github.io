{
  "nbformat_minor": 0, 
  "nbformat": 4, 
  "cells": [
    {
      "execution_count": null, 
      "cell_type": "code", 
      "source": [
        "%matplotlib inline"
      ], 
      "outputs": [], 
      "metadata": {
        "collapsed": false
      }
    }, 
    {
      "source": [
        "\nGLM fitting in second level fMRI\n================================\n\nFull step-by-step example of fitting a GLM to perform a second level analysis\nin experimental data and visualizing the results.\n\nMore specifically:\n\n1. A sequence of subject fMRI button press contrasts is downloaded.\n2. a mask of the useful brain volume is computed\n3. A one-sample t-test is applied to the brain maps\n\n(as fixed effects, then contrast estimation)\n\nAuthor : Martin Perez-Guevara: 2016\n\n"
      ], 
      "cell_type": "markdown", 
      "metadata": {}
    }, 
    {
      "execution_count": null, 
      "cell_type": "code", 
      "source": [
        "import pandas as pd\nfrom nilearn import plotting\nfrom scipy.stats import norm\nimport matplotlib.pyplot as plt\n\nfrom nilearn.datasets import fetch_localizer_contrasts\nfrom nistats.second_level_model import SecondLevelModel"
      ], 
      "outputs": [], 
      "metadata": {
        "collapsed": false
      }
    }, 
    {
      "source": [
        "Fetch dataset\n--------------\nWe download a list of left vs right button press contrasts from a\nlocalizer dataset.\n\n"
      ], 
      "cell_type": "markdown", 
      "metadata": {}
    }, 
    {
      "execution_count": null, 
      "cell_type": "code", 
      "source": [
        "n_subjects = 16\ndata = fetch_localizer_contrasts([\"left vs right button press\"], n_subjects,\n                                 get_tmaps=True)"
      ], 
      "outputs": [], 
      "metadata": {
        "collapsed": false
      }
    }, 
    {
      "source": [
        "Display subject t_maps\n----------------------\nWe plot a grid with all the subjects t-maps thresholded at t = 2 for\nsimple visualization purposes. The button press effect is visible among\nall subjects\n\n"
      ], 
      "cell_type": "markdown", 
      "metadata": {}
    }, 
    {
      "execution_count": null, 
      "cell_type": "code", 
      "source": [
        "from nilearn.image import crop_img\nsubjects = [subject_data[0] for subject_data in data['ext_vars']]\n\n# fig, axes = plt.subplots(nrows=2, ncols=8, figsize=(16, 6))\nfor cidx, tmap in enumerate(data['tmaps']):\n    plotting.plot_glass_brain(crop_img(tmap), colorbar=False, threshold=2.0,\n                              # axes=axes[int(cidx / 8), int(cidx % 8)],\n                              plot_abs=False, display_mode='z',\n                              annotate=False)\n    plt.savefig('/tmp/img_%02d.png' % cidx)\n# plt.subplots_adjust(left=.01, right=.99, bottom=.01, hspace=.01, wspace=.01)\n# fig.suptitle('subjects t_map left-right button press')\nstop\nplt.tight_layout(pad=0, rect=[-.05, -.05, 1.05, 1.05], h_pad=0, w_pad=0)\n# fig.savefig('individuals.png', bbox_inches='tight')\nplt.show()\n\"\"\""
      ], 
      "outputs": [], 
      "metadata": {
        "collapsed": false
      }
    }, 
    {
      "source": [
        "Estimate second level model\n---------------------------\nWe define the input maps and the design matrix for the second level model\nand fit it.\n\n"
      ], 
      "cell_type": "markdown", 
      "metadata": {}
    }, 
    {
      "execution_count": null, 
      "cell_type": "code", 
      "source": [
        "second_level_input = data['cmaps']\ndesign_matrix = pd.DataFrame([1] * len(second_level_input),\n                             columns=['contrast'])\n\nsecond_level_model = SecondLevelModel(smoothing_fwhm=8.0, n_jobs=-2)\nsecond_level_model = second_level_model.fit(second_level_input,\n                                            design_matrix=design_matrix)"
      ], 
      "outputs": [], 
      "metadata": {
        "collapsed": false
      }
    }, 
    {
      "source": [
        "Estimate uncorrected effects\n--------------------------------\nTo estimate the contrast is very simple. We can just provide the column\nname of the design matrix.\n\n"
      ], 
      "cell_type": "markdown", 
      "metadata": {}
    }, 
    {
      "execution_count": null, 
      "cell_type": "code", 
      "source": [
        "z_map = second_level_model.compute_contrast(output_type='z_score')"
      ], 
      "outputs": [], 
      "metadata": {
        "collapsed": false
      }
    }, 
    {
      "source": [
        "We threshold the contrast at uncorrected p < 0.001 and plot\n\n"
      ], 
      "cell_type": "markdown", 
      "metadata": {}
    }, 
    {
      "execution_count": null, 
      "cell_type": "code", 
      "source": [
        "p_val = 0.001\nz_th = norm.isf(p_val)\ndisplay = plotting.plot_glass_brain(z_map, threshold=z_th, colorbar=True,\n                                    plot_abs=False, display_mode='z')\n\nplt.savefig('result_onesample.png')\nplotting.show()\n\"\"\"\n\n\"\"\""
      ], 
      "outputs": [], 
      "metadata": {
        "collapsed": false
      }
    }, 
    {
      "source": [
        "Estimate FWE corrected effects with permutation test\n----------------------------------------------------\nWe use a similar function that also allows to tune the permutation\nparameters. For this example we will only use 1000 permutations. But we\nrecommend to use 10000.\n\n"
      ], 
      "cell_type": "markdown", 
      "metadata": {}
    }, 
    {
      "execution_count": null, 
      "cell_type": "code", 
      "source": [
        "z_map = second_level_model.compute_contrast_permutations(\n    output_type='cor_z_score', n_perm=1000)"
      ], 
      "outputs": [], 
      "metadata": {
        "collapsed": false
      }
    }, 
    {
      "source": [
        "We threshold the contrast at corrected p < 0.001 and plot\n\n"
      ], 
      "cell_type": "markdown", 
      "metadata": {}
    }, 
    {
      "execution_count": null, 
      "cell_type": "code", 
      "source": [
        "p_val = 0.001\nz_th = norm.isf(p_val)\ndisplay = plotting.plot_glass_brain(z_map, threshold=z_th, colorbar=True,\n                                    plot_abs=False, display_mode='z')\nplotting.show()\n\"\"\""
      ], 
      "outputs": [], 
      "metadata": {
        "collapsed": false
      }
    }
  ], 
  "metadata": {
    "kernelspec": {
      "display_name": "Python 2", 
      "name": "python2", 
      "language": "python"
    }, 
    "language_info": {
      "mimetype": "text/x-python", 
      "nbconvert_exporter": "python", 
      "name": "python", 
      "file_extension": ".py", 
      "version": "2.7.12", 
      "pygments_lexer": "ipython2", 
      "codemirror_mode": {
        "version": 2, 
        "name": "ipython"
      }
    }
  }
}