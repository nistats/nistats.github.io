{
  "nbformat_minor": 0, 
  "nbformat": 4, 
  "cells": [
    {
      "execution_count": null, 
      "cell_type": "code", 
      "source": [
        "%matplotlib inline"
      ], 
      "outputs": [], 
      "metadata": {
        "collapsed": false
      }
    }, 
    {
      "source": [
        "\nAnalysis of a single session, single subject fMRI dataset\n=========================================================\n\nIn this tutorial, we compare the fMRI signal during periods of auditory\nstimulation versus periods of rest, using a General Linear Model (GLM).\n\nThe dataset comes from an experiment conducted at the FIL by Geriant Rees\nunder the direction of Karl Friston. It is provided by FIL methods\ngroup which develops the SPM software.\n\nAccording to SPM documentation, 96 scans were acquired (repetition time TR=7s) in one session. The paradigm consisted of alternating periods of stimulation and rest, lasting 42s each (that is, for 6 scans). The sesssion started with a rest block.\nAuditory stimulation consisted of bi-syllabic words presented binaurally at a\nrate of 60 per minute. The functional data starts at scan number 4, that is the \nimage file ``fM00223_004``.\n\nThe whole brain BOLD/EPI images were acquired on a  2T Siemens\nMAGNETOM Vision system. Each scan consisted of 64 contiguous\nslices (64x64x64 3mm x 3mm x 3mm voxels). Acquisition of one scan took 6.05s, with the scan to scan repeat time (TR) set arbitrarily to 7s.\n\nThe analyse described here is performed in the native space, directly on the\noriginal EPI scans without any spatial or temporal preprocessing.\n(More sensitive results would likely be obtained on the corrected,\nspatially normalized and smoothed images).\n\n\nTo run this example, you must launch IPython via ``ipython\n--matplotlib`` in a terminal, or use ``jupyter-notebook``.\n    :depth: 1\n\n\n"
      ], 
      "cell_type": "markdown", 
      "metadata": {}
    }, 
    {
      "source": [
        "Retrieving the data\n-------------------\n\n<div class=\"alert alert-info\"><h4>Note</h4><p>In this tutorial, we load the data using a data downloading\n          function. To input your own data, you will need to provide\n          a list of paths to your own files in the ``subject_data`` variable.\n          These should abide to the Brain Imaging Data Structure (BIDS) \n          organization.</p></div>\n\n"
      ], 
      "cell_type": "markdown", 
      "metadata": {}
    }, 
    {
      "execution_count": null, 
      "cell_type": "code", 
      "source": [
        "from nistats.datasets import fetch_spm_auditory\nsubject_data = fetch_spm_auditory()\nprint(subject_data.func)  # print the list of names of functional images"
      ], 
      "outputs": [], 
      "metadata": {
        "collapsed": false
      }
    }, 
    {
      "source": [
        "We can display the first functional image and the subject's anatomy:\n\n"
      ], 
      "cell_type": "markdown", 
      "metadata": {}
    }, 
    {
      "execution_count": null, 
      "cell_type": "code", 
      "source": [
        "from nilearn.plotting import plot_stat_map, plot_anat, plot_img, show\nplot_img(subject_data.func[0])\nplot_anat(subject_data.anat)"
      ], 
      "outputs": [], 
      "metadata": {
        "collapsed": false
      }
    }, 
    {
      "source": [
        "Next, we concatenate all the 3D EPI image into a single 4D image,\nthen we average them in order to create a background\nimage that will be used to display the activations:\n\n"
      ], 
      "cell_type": "markdown", 
      "metadata": {}
    }, 
    {
      "execution_count": null, 
      "cell_type": "code", 
      "source": [
        "from nilearn.image import concat_imgs, mean_img\nfmri_img = concat_imgs(subject_data.func)\nmean_img = mean_img(fmri_img)"
      ], 
      "outputs": [], 
      "metadata": {
        "collapsed": false
      }
    }, 
    {
      "source": [
        "Specifying the experimental paradigm\n------------------------------------\n\nWe must now provide a description of the experiment, that is, define the\ntiming of the auditory stimulation and rest periods. This is typically\nprovided in an events.tsv file. The path of this file is\nprovided in the dataset.\n\n"
      ], 
      "cell_type": "markdown", 
      "metadata": {}
    }, 
    {
      "execution_count": null, 
      "cell_type": "code", 
      "source": [
        "import pandas as pd\nevents = pd.read_table(subject_data['events'])\nprint(events)"
      ], 
      "outputs": [], 
      "metadata": {
        "collapsed": false
      }
    }, 
    {
      "source": [
        "Performing the GLM analysis\n---------------------------\n\nIt is now time to create and estimate a ``FirstLevelModel`` object, that will generate the *design matrix* using the  information provided by the ``events`` object.\n\n"
      ], 
      "cell_type": "markdown", 
      "metadata": {}
    }, 
    {
      "execution_count": null, 
      "cell_type": "code", 
      "source": [
        "from nistats.first_level_model import FirstLevelModel"
      ], 
      "outputs": [], 
      "metadata": {
        "collapsed": false
      }
    }, 
    {
      "source": [
        "Parameters of the first-level model\n\n* t_r=7(s) is the time of repetition of acquisitions\n* noise_model='ar1' specifies the noise covariance model: a lag-1 dependence\n* standardize=False means that we do not want to rescale the time\nseries to mean 0, variance 1\n* hrf_model='spm' means that we rely on the SPM \"canonical hrf\"\nmodel (without time or dispersion derivatives)\n* drift_model='cosine' means that we model the signal drifts as slow oscillating time functions\n* period_cut=160(s) defines the cutoff frequency (its inverse actually).\n\n"
      ], 
      "cell_type": "markdown", 
      "metadata": {}
    }, 
    {
      "execution_count": null, 
      "cell_type": "code", 
      "source": [
        "fmri_glm = FirstLevelModel(t_r=7,\n                           noise_model='ar1',\n                           standardize=False,\n                           hrf_model='spm',\n                           drift_model='cosine',\n                           period_cut=160)"
      ], 
      "outputs": [], 
      "metadata": {
        "collapsed": false
      }
    }, 
    {
      "source": [
        "Now that we have specified the model, we can run it on the fMRI image\n\n"
      ], 
      "cell_type": "markdown", 
      "metadata": {}
    }, 
    {
      "execution_count": null, 
      "cell_type": "code", 
      "source": [
        "fmri_glm = fmri_glm.fit(fmri_img, events)"
      ], 
      "outputs": [], 
      "metadata": {
        "collapsed": false
      }
    }, 
    {
      "source": [
        "One can inspect the design matrix (rows represent time, and\ncolumns contain the predictors).\n\n"
      ], 
      "cell_type": "markdown", 
      "metadata": {}
    }, 
    {
      "execution_count": null, 
      "cell_type": "code", 
      "source": [
        "design_matrix = fmri_glm.design_matrices_[0]"
      ], 
      "outputs": [], 
      "metadata": {
        "collapsed": false
      }
    }, 
    {
      "source": [
        "Formally, we have taken the first design matrix, because the model is\nimplictily meant to for multiple runs.\n\n"
      ], 
      "cell_type": "markdown", 
      "metadata": {}
    }, 
    {
      "execution_count": null, 
      "cell_type": "code", 
      "source": [
        "from nistats.reporting import plot_design_matrix\nplot_design_matrix(design_matrix)\nimport matplotlib.pyplot as plt\nplt.show()"
      ], 
      "outputs": [], 
      "metadata": {
        "collapsed": false
      }
    }, 
    {
      "source": [
        "Save the design matrix image to disk\nfirst create a directory where you want to write the images\n\n"
      ], 
      "cell_type": "markdown", 
      "metadata": {}
    }, 
    {
      "execution_count": null, 
      "cell_type": "code", 
      "source": [
        "import os\noutdir = 'results'\nif not os.path.exists(outdir):\n    os.mkdir(outdir)\n\nfrom os.path import join\nplot_design_matrix(design_matrix, output_file=join(outdir, 'design_matrix.png'))"
      ], 
      "outputs": [], 
      "metadata": {
        "collapsed": false
      }
    }, 
    {
      "source": [
        "The first column contains the expected reponse profile of regions which are\nsensitive to the auditory stimulation.\nLet's plot this first column\n\n"
      ], 
      "cell_type": "markdown", 
      "metadata": {}
    }, 
    {
      "execution_count": null, 
      "cell_type": "code", 
      "source": [
        "plt.plot(design_matrix['active'])\nplt.xlabel('scan')\nplt.title('Expected Auditory Response')\nplt.show()"
      ], 
      "outputs": [], 
      "metadata": {
        "collapsed": false
      }
    }, 
    {
      "source": [
        "Detecting voxels with significant effects\n-----------------------------------------\n\nTo access the estimated coefficients (Betas of the GLM model), we\ncreated constrast with a single '1' in each of the columns: The role\nof the contrast is to select some columns of the model --and\npotentially weight them-- to study the associated statistics. So in\na nutshell, a contrast is a weigted combination of the estimated\neffects.  Here we can define canonical contrasts that just consider\nthe two condition in isolation ---let's call them \"conditions\"---\nthen a contrast that makes the difference between these conditions.\n\n"
      ], 
      "cell_type": "markdown", 
      "metadata": {}
    }, 
    {
      "execution_count": null, 
      "cell_type": "code", 
      "source": [
        "from numpy import array\nconditions = {\n    'active': array([1., 0., 0., 0., 0., 0., 0., 0., 0., 0.]),\n    'rest':   array([0., 1., 0., 0., 0., 0., 0., 0., 0., 0.]),\n}"
      ], 
      "outputs": [], 
      "metadata": {
        "collapsed": false
      }
    }, 
    {
      "source": [
        "We can then compare the two conditions 'active' and 'rest' by\ndefining the corresponding contrast:\n\n"
      ], 
      "cell_type": "markdown", 
      "metadata": {}
    }, 
    {
      "execution_count": null, 
      "cell_type": "code", 
      "source": [
        "active_minus_rest = conditions['active'] - conditions['rest']"
      ], 
      "outputs": [], 
      "metadata": {
        "collapsed": false
      }
    }, 
    {
      "source": [
        "Let's look at it: plot the coefficients of the contrast, indexed by\nthe names of the columns of the design matrix.\n\n"
      ], 
      "cell_type": "markdown", 
      "metadata": {}
    }, 
    {
      "execution_count": null, 
      "cell_type": "code", 
      "source": [
        "from nistats.reporting import plot_contrast_matrix\nplot_contrast_matrix(active_minus_rest, design_matrix=design_matrix)"
      ], 
      "outputs": [], 
      "metadata": {
        "collapsed": false
      }
    }, 
    {
      "source": [
        "Below, we compute the estimated effect. It is in BOLD signal unit,\nbut has no statistical guarantees, because it does not take into\naccount the associated variance.\n\n"
      ], 
      "cell_type": "markdown", 
      "metadata": {}
    }, 
    {
      "execution_count": null, 
      "cell_type": "code", 
      "source": [
        "eff_map = fmri_glm.compute_contrast(active_minus_rest,\n                                    output_type='effect_size')"
      ], 
      "outputs": [], 
      "metadata": {
        "collapsed": false
      }
    }, 
    {
      "source": [
        "In order to get statistical significance, we form a t-statistic, and\ndirectly convert is into z-scale. The z-scale means that the values\nare scaled to match a standard Gaussian distribution (mean=0,\nvariance=1), across voxels, if there were now effects in the data.\n\n"
      ], 
      "cell_type": "markdown", 
      "metadata": {}
    }, 
    {
      "execution_count": null, 
      "cell_type": "code", 
      "source": [
        "z_map = fmri_glm.compute_contrast(active_minus_rest,\n                                  output_type='z_score')"
      ], 
      "outputs": [], 
      "metadata": {
        "collapsed": false
      }
    }, 
    {
      "source": [
        "Plot thresholded z scores map.\n\nWe display it on top of the average\nfunctional image of the series (could be the anatomical image of the\nsubject).  We use arbitrarily a threshold of 3.0 in z-scale. We'll\nsee later how to use corrected thresholds.  we show to display 3\naxial views: display_mode='z', cut_coords=3\n\n"
      ], 
      "cell_type": "markdown", 
      "metadata": {}
    }, 
    {
      "execution_count": null, 
      "cell_type": "code", 
      "source": [
        "plot_stat_map(z_map, bg_img=mean_img, threshold=3.0,\n              display_mode='z', cut_coords=3, black_bg=True,\n              title='Active minus Rest (Z>3)')\nplt.show()"
      ], 
      "outputs": [], 
      "metadata": {
        "collapsed": false
      }
    }, 
    {
      "source": [
        "Statistical signifiance testing. One should worry about the\nstatistical validity of the procedure: here we used an arbitrary\nthreshold of 3.0 but the threshold should provide some guarantees on\nthe risk of false detections (aka type-1 errors in statistics). One\nfirst suggestion is to control the false positive rate (fpr) at a\ncertain level, e.g. 0.001: this means that there is.1% chance of\ndeclaring active an inactive voxel.\n\n"
      ], 
      "cell_type": "markdown", 
      "metadata": {}
    }, 
    {
      "execution_count": null, 
      "cell_type": "code", 
      "source": [
        "from nistats.thresholding import map_threshold\n_, threshold = map_threshold(z_map, level=.001, height_control='fpr')\nprint('Uncorrected p<0.001 threshold: %.3f' % threshold)\nplot_stat_map(z_map, bg_img=mean_img, threshold=threshold,\n              display_mode='z', cut_coords=3, black_bg=True,\n              title='Active minus Rest (p<0.001)')\nplt.show()"
      ], 
      "outputs": [], 
      "metadata": {
        "collapsed": false
      }
    }, 
    {
      "source": [
        "The problem is that with this you expect 0.001 * n_voxels to show up\nwhile they're not active --- tens to hundreds of voxels. A more\nconservative solution is to control the family wise errro rate,\ni.e. the probability of making ony one false detection, say at\n5%. For that we use the so-called Bonferroni correction\n\n"
      ], 
      "cell_type": "markdown", 
      "metadata": {}
    }, 
    {
      "execution_count": null, 
      "cell_type": "code", 
      "source": [
        "_, threshold = map_threshold(z_map, level=.05, height_control='bonferroni')\nprint('Bonferroni-corrected, p<0.05 threshold: %.3f' % threshold)\nplot_stat_map(z_map, bg_img=mean_img, threshold=threshold,\n              display_mode='z', cut_coords=3, black_bg=True,\n              title='Active minus Rest (p<0.05, corrected)')\nplt.show()"
      ], 
      "outputs": [], 
      "metadata": {
        "collapsed": false
      }
    }, 
    {
      "source": [
        "This is quite conservative indeed !  A popular alternative is to\ncontrol the false discovery rate, i.e. the expected proportion of\nfalse discoveries among detections. This is called the false\ndisovery rate\n\n"
      ], 
      "cell_type": "markdown", 
      "metadata": {}
    }, 
    {
      "execution_count": null, 
      "cell_type": "code", 
      "source": [
        "_, threshold = map_threshold(z_map, level=.05, height_control='fdr')\nprint('False Discovery rate = 0.05 threshold: %.3f' % threshold)\nplot_stat_map(z_map, bg_img=mean_img, threshold=threshold,\n              display_mode='z', cut_coords=3, black_bg=True,\n              title='Active minus Rest (fdr=0.05)')\nplt.show()"
      ], 
      "outputs": [], 
      "metadata": {
        "collapsed": false
      }
    }, 
    {
      "source": [
        "Finally people like to discard isolated voxels (aka \"small\nclusters\") from these images. It is possible to generate a\nthresholded map with small clusters removed by providing a\ncluster_threshold argument. here clusters smaller than 10 voxels\nwill be discarded.\n\n"
      ], 
      "cell_type": "markdown", 
      "metadata": {}
    }, 
    {
      "execution_count": null, 
      "cell_type": "code", 
      "source": [
        "clean_map, threshold = map_threshold(\n    z_map, level=.05, height_control='fdr', cluster_threshold=10)\nplot_stat_map(clean_map, bg_img=mean_img, threshold=threshold,\n              display_mode='z', cut_coords=3, black_bg=True,\n              title='Active minus Rest (fdr=0.05), clusters > 10 voxels')\nplt.show()"
      ], 
      "outputs": [], 
      "metadata": {
        "collapsed": false
      }
    }, 
    {
      "source": [
        "We can save the effect and zscore maps to the disk\n\n"
      ], 
      "cell_type": "markdown", 
      "metadata": {}
    }, 
    {
      "execution_count": null, 
      "cell_type": "code", 
      "source": [
        "z_map.to_filename(join(outdir, 'active_vs_rest_z_map.nii.gz'))\neff_map.to_filename(join(outdir, 'active_vs_rest_eff_map.nii.gz'))"
      ], 
      "outputs": [], 
      "metadata": {
        "collapsed": false
      }
    }, 
    {
      "source": [
        "Report the found positions in a table\n\n"
      ], 
      "cell_type": "markdown", 
      "metadata": {}
    }, 
    {
      "execution_count": null, 
      "cell_type": "code", 
      "source": [
        "from nistats.reporting import get_clusters_table\ntable = get_clusters_table(z_map, stat_threshold=threshold,\n                           cluster_threshold=20)\nprint(table)"
      ], 
      "outputs": [], 
      "metadata": {
        "collapsed": false
      }
    }, 
    {
      "source": [
        "the table can be saved for future use\n\n"
      ], 
      "cell_type": "markdown", 
      "metadata": {}
    }, 
    {
      "execution_count": null, 
      "cell_type": "code", 
      "source": [
        "table.to_csv(join(outdir, 'table.csv'))"
      ], 
      "outputs": [], 
      "metadata": {
        "collapsed": false
      }
    }, 
    {
      "source": [
        "Performing an F-test\n\n\"active vs rest\" is a typical t test: condition versus\nbaseline. Another popular type of test is an F test in which one\nseeks whether a certain combination of conditions (possibly two-,\nthree- or higher-dimensional) explains a significant proportion of\nthe signal.  Here one might for instance test which voxels are well\nexplained by combination of the active and rest condition.\n\n"
      ], 
      "cell_type": "markdown", 
      "metadata": {}
    }, 
    {
      "execution_count": null, 
      "cell_type": "code", 
      "source": [
        "import numpy as np\neffects_of_interest = np.vstack((conditions['active'], conditions['rest']))\nplot_contrast_matrix(effects_of_interest, design_matrix)\nplt.show()"
      ], 
      "outputs": [], 
      "metadata": {
        "collapsed": false
      }
    }, 
    {
      "source": [
        "Specify the contrast and compute the correspoding map. Actually, the\ncontrast specification is done exactly the same way as for t\ncontrasts.\n\n"
      ], 
      "cell_type": "markdown", 
      "metadata": {}
    }, 
    {
      "execution_count": null, 
      "cell_type": "code", 
      "source": [
        "z_map = fmri_glm.compute_contrast(effects_of_interest,\n                                  output_type='z_score')\nplt.show()"
      ], 
      "outputs": [], 
      "metadata": {
        "collapsed": false
      }
    }, 
    {
      "source": [
        "Note that the statistic has been converted to a z-variable, which\nmakes it easier to represent it.\n\n"
      ], 
      "cell_type": "markdown", 
      "metadata": {}
    }, 
    {
      "execution_count": null, 
      "cell_type": "code", 
      "source": [
        "clean_map, threshold = map_threshold(\n    z_map, level=.05, height_control='fdr', cluster_threshold=10)\nplot_stat_map(clean_map, bg_img=mean_img, threshold=threshold,\n              display_mode='z', cut_coords=3, black_bg=True,\n              title='Effects of interest (fdr=0.05), clusters > 10 voxels')\nplt.show()"
      ], 
      "outputs": [], 
      "metadata": {
        "collapsed": false
      }
    }, 
    {
      "source": [
        "Oops, there is a lot of non-neural signal in there (ventricles, arteries)...\n\n"
      ], 
      "cell_type": "markdown", 
      "metadata": {}
    }
  ], 
  "metadata": {
    "kernelspec": {
      "display_name": "Python 2", 
      "name": "python2", 
      "language": "python"
    }, 
    "language_info": {
      "mimetype": "text/x-python", 
      "nbconvert_exporter": "python", 
      "name": "python", 
      "file_extension": ".py", 
      "version": "2.7.15", 
      "pygments_lexer": "ipython2", 
      "codemirror_mode": {
        "version": 2, 
        "name": "ipython"
      }
    }
  }
}