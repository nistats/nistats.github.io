{
  "nbformat_minor": 0, 
  "nbformat": 4, 
  "cells": [
    {
      "execution_count": null, 
      "cell_type": "code", 
      "source": [
        "%matplotlib inline"
      ], 
      "outputs": [], 
      "metadata": {
        "collapsed": false
      }
    }, 
    {
      "source": [
        "\nFirst level analysis of a complete BIDS dataset from openneuro\n===============================================================\n\n\nFull step-by-step example of fitting a GLM to perform a first level analysis\nin an openneuro BIDS dataset. We demonstrate how BIDS derivatives can be\nexploited to perform a simple one subject analysis with minimal code.\nDetails about the BIDS standard are available at http://bids.neuroimaging.io/\nWe also demonstrate how to download individual groups of files from the\nOpenneuro s3 bucket.\n\nMore specifically:\n\n1. Download an fMRI BIDS dataset with derivatives from openneuro\n2. Extract automatically from the BIDS dataset first level model objects\n3. Demonstrate Quality assurance of Nistat estimation against available FSL\n   estimation in the openneuro dataset\n4. Display contrast plot and uncorrected first level statistics table report\n\n\n\nTo run this example, you must launch IPython via ``ipython\n--matplotlib`` in a terminal, or use the Jupyter notebook.\n    :depth: 1\n\n"
      ], 
      "cell_type": "markdown", 
      "metadata": {}
    }, 
    {
      "source": [
        "Fetch openneuro BIDS dataset\n-----------------------------\nWe download one subject from the stopsignal task in the ds000030 V4 BIDS\ndataset available in openneuro.\nThis dataset contains the necessary information to run a statistical analysis\nusing Nistats. The dataset also contains statistical results from a previous\nFSL analysis that we can employ for comparison with the Nistats estimation.\n\n"
      ], 
      "cell_type": "markdown", 
      "metadata": {}
    }, 
    {
      "execution_count": null, 
      "cell_type": "code", 
      "source": [
        "from nistats.datasets import (fetch_openneuro_dataset_index,\n                              fetch_openneuro_dataset, select_from_index)\n\n_, urls = fetch_openneuro_dataset_index()\n\nexclusion_patterns = ['*group*', '*phenotype*', '*mriqc*',\n                      '*parameter_plots*', '*physio_plots*',\n                      '*space-fsaverage*', '*space-T1w*',\n                      '*dwi*', '*beh*', '*task-bart*',\n                      '*task-rest*', '*task-scap*', '*task-task*']\nurls = select_from_index(\n    urls, exclusion_filters=exclusion_patterns, n_subjects=1)\n\ndata_dir, _ = fetch_openneuro_dataset(urls=urls)"
      ], 
      "outputs": [], 
      "metadata": {
        "collapsed": false
      }
    }, 
    {
      "source": [
        "Obtain automatically FirstLevelModel objects and fit arguments\n---------------------------------------------------------------\nFrom the dataset directory we obtain automatically FirstLevelModel objects\nwith their subject_id filled from the BIDS dataset. Moreover we obtain\nfor each model the list of run imgs and their respective events and\nconfounder regressors. Confounders are inferred from the confounds.tsv files\navailable in the BIDS dataset.\nTo get the first level models we have to specify the dataset directory,\nthe task_label and the space_label as specified in the file names.\nWe also have to provide the folder with the desired derivatives, that in this\ncase were produced by the fmriprep BIDS app.\n\n"
      ], 
      "cell_type": "markdown", 
      "metadata": {}
    }, 
    {
      "execution_count": null, 
      "cell_type": "code", 
      "source": [
        "from nistats.first_level_model import first_level_models_from_bids\ntask_label = 'stopsignal'\nspace_label = 'MNI152NLin2009cAsym'\nderivatives_folder = 'derivatives/fmriprep'\nmodels, models_run_imgs, models_events, models_confounds = \\\n    first_level_models_from_bids(\n        data_dir, task_label, space_label, smoothing_fwhm=5.0,\n        derivatives_folder=derivatives_folder)"
      ], 
      "outputs": [], 
      "metadata": {
        "collapsed": false
      }
    }, 
    {
      "source": [
        "Take model and model arguments of the subject and process events\n\n"
      ], 
      "cell_type": "markdown", 
      "metadata": {}
    }, 
    {
      "execution_count": null, 
      "cell_type": "code", 
      "source": [
        "model, imgs, events, confounds = (\n    models[0], models_run_imgs[0], models_events[0], models_confounds[0])\nsubject = 'sub-' + model.subject_label\n\nimport os\nfrom nistats.utils import get_design_from_fslmat\nfsl_design_matrix_path = os.path.join(\n    data_dir, 'derivatives', 'task', subject, 'stopsignal.feat', 'design.mat')\ndesign_matrix = get_design_from_fslmat(\n    fsl_design_matrix_path, column_names=None)"
      ], 
      "outputs": [], 
      "metadata": {
        "collapsed": false
      }
    }, 
    {
      "source": [
        "We identify the columns of the Go and StopSuccess conditions of the\ndesign matrix inferred from the fsl file, to use them later for contrast\ndefinition.\n\n"
      ], 
      "cell_type": "markdown", 
      "metadata": {}
    }, 
    {
      "execution_count": null, 
      "cell_type": "code", 
      "source": [
        "design_columns = ['cond_%02d' % i for i in range(len(design_matrix.columns))]\ndesign_columns[0] = 'Go'\ndesign_columns[4] = 'StopSuccess'\ndesign_matrix.columns = design_columns"
      ], 
      "outputs": [], 
      "metadata": {
        "collapsed": false
      }
    }, 
    {
      "source": [
        "First level model estimation (one subject)\n-------------------------------------------\nWe fit the first level model for one subject.\n\n"
      ], 
      "cell_type": "markdown", 
      "metadata": {}
    }, 
    {
      "execution_count": null, 
      "cell_type": "code", 
      "source": [
        "model.fit(imgs, design_matrices=[design_matrix])"
      ], 
      "outputs": [], 
      "metadata": {
        "collapsed": false
      }
    }, 
    {
      "source": [
        "Then we compute the StopSuccess - Go contrast. We can use the column names\nof the design matrix.\n\n"
      ], 
      "cell_type": "markdown", 
      "metadata": {}
    }, 
    {
      "execution_count": null, 
      "cell_type": "code", 
      "source": [
        "z_map = model.compute_contrast('StopSuccess - Go')"
      ], 
      "outputs": [], 
      "metadata": {
        "collapsed": false
      }
    }, 
    {
      "source": [
        "We show agreement between the Nistats estimation and the FSL estimation\navailable in the dataset\n\n"
      ], 
      "cell_type": "markdown", 
      "metadata": {}
    }, 
    {
      "execution_count": null, 
      "cell_type": "code", 
      "source": [
        "import nibabel as nib\nfsl_z_map = nib.load(\n    os.path.join(data_dir, 'derivatives', 'task', subject, 'stopsignal.feat',\n                 'stats', 'zstat12.nii.gz'))\n\nfrom nilearn import plotting\nimport matplotlib.pyplot as plt\nfrom scipy.stats import norm\nplotting.plot_glass_brain(z_map, colorbar=True, threshold=norm.isf(0.001),\n                          title='Nistats Z map of \"StopSuccess - Go\" (unc p<0.001)',\n                          plot_abs=False, display_mode='ortho')\nplotting.plot_glass_brain(fsl_z_map, colorbar=True, threshold=norm.isf(0.001),\n                          title='FSL Z map of \"StopSuccess - Go\" (unc p<0.001)',\n                          plot_abs=False, display_mode='ortho')\nplt.show()\n\nfrom nistats.reporting import compare_niimgs\ncompare_niimgs([z_map], [fsl_z_map], model.masker_,\n               ref_label='Nistats', src_label='FSL')\nplt.show()"
      ], 
      "outputs": [], 
      "metadata": {
        "collapsed": false
      }
    }, 
    {
      "source": [
        "Simple statistical report of thresholded contrast\n-----------------------------------------------------\nWe display the contrast plot and table with cluster information\n\n"
      ], 
      "cell_type": "markdown", 
      "metadata": {}
    }, 
    {
      "execution_count": null, 
      "cell_type": "code", 
      "source": [
        "from nistats.reporting import plot_contrast_matrix\nplot_contrast_matrix('StopSuccess - Go', design_matrix)\nplotting.plot_glass_brain(z_map, colorbar=True, threshold=norm.isf(0.001),\n                          plot_abs=False, display_mode='z',\n                          figure=plt.figure(figsize=(4, 4)))\nplt.show()"
      ], 
      "outputs": [], 
      "metadata": {
        "collapsed": false
      }
    }, 
    {
      "source": [
        "We can get a latex table from a Pandas Dataframe for display and publication\n\n"
      ], 
      "cell_type": "markdown", 
      "metadata": {}
    }, 
    {
      "execution_count": null, 
      "cell_type": "code", 
      "source": [
        "from nistats.reporting import get_clusters_table\nprint(get_clusters_table(z_map, norm.isf(0.001), 10).to_latex())"
      ], 
      "outputs": [], 
      "metadata": {
        "collapsed": false
      }
    }
  ], 
  "metadata": {
    "kernelspec": {
      "display_name": "Python 2", 
      "name": "python2", 
      "language": "python"
    }, 
    "language_info": {
      "mimetype": "text/x-python", 
      "nbconvert_exporter": "python", 
      "name": "python", 
      "file_extension": ".py", 
      "version": "2.7.15", 
      "pygments_lexer": "ipython2", 
      "codemirror_mode": {
        "version": 2, 
        "name": "ipython"
      }
    }
  }
}