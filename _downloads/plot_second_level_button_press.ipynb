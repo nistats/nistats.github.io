{
  "nbformat_minor": 0,
  "nbformat": 4,
  "cells": [
    {
      "outputs": [],
      "execution_count": null,
      "cell_type": "code",
      "source": [
        "%matplotlib inline"
      ],
      "metadata": {
        "collapsed": false
      }
    },
    {
      "cell_type": "markdown",
      "source": [
        "\nGLM fitting in second level fMRI\n================================\n\nFull step-by-step example of fitting a GLM to perform a second level analysis\nin experimental data and visualizing the results.\n\nMore specifically:\n\n1. A sequence of subject fMRI button press contrasts is downloaded.\n2. a mask of the useful brain volume is computed\n3. A one-sample t-test is applied to the brain maps\n\n(as fixed effects, then contrast estimation)\n\nAuthor : Martin Perez-Guevara: 2016\n\n"
      ],
      "metadata": {}
    },
    {
      "outputs": [],
      "execution_count": null,
      "cell_type": "code",
      "source": [
        "import pandas as pd\nfrom nilearn import plotting\nfrom scipy.stats import norm\nimport matplotlib.pyplot as plt\n\nfrom nilearn.datasets import fetch_localizer_contrasts\nfrom nistats.second_level_model import SecondLevelModel"
      ],
      "metadata": {
        "collapsed": false
      }
    },
    {
      "cell_type": "markdown",
      "source": [
        "Fetch dataset\n--------------\nWe download a list of left vs right button press contrasts from a\nlocalizer dataset.\n\n"
      ],
      "metadata": {}
    },
    {
      "outputs": [],
      "execution_count": null,
      "cell_type": "code",
      "source": [
        "n_subjects = 16\ndata = fetch_localizer_contrasts([\"left vs right button press\"], n_subjects,\n                                 get_tmaps=True)"
      ],
      "metadata": {
        "collapsed": false
      }
    },
    {
      "cell_type": "markdown",
      "source": [
        "Display subject t_maps\n----------------------\nWe plot a grid with all the subjects t-maps thresholded at t = 2 for\nsimple visualization purposes. The button press effect is visible among\nall subjects\n\n"
      ],
      "metadata": {}
    },
    {
      "outputs": [],
      "execution_count": null,
      "cell_type": "code",
      "source": [
        "subjects = [subject_data[0] for subject_data in data['ext_vars']]\nfig, axes = plt.subplots(nrows=4, ncols=4)\nfor cidx, tmap in enumerate(data['tmaps']):\n    plotting.plot_glass_brain(tmap, colorbar=False, threshold=2.0,\n                              title=subjects[cidx],\n                              axes=axes[int(cidx / 4), int(cidx % 4)],\n                              plot_abs=False, display_mode='z')\nfig.suptitle('subjects t_map left-right button press')\nplt.show()"
      ],
      "metadata": {
        "collapsed": false
      }
    },
    {
      "cell_type": "markdown",
      "source": [
        "Estimate second level model\n---------------------------\nWe define the input maps and the design matrix for the second level model\nand fit it.\n\n"
      ],
      "metadata": {}
    },
    {
      "outputs": [],
      "execution_count": null,
      "cell_type": "code",
      "source": [
        "second_level_input = data['cmaps']\ndesign_matrix = pd.DataFrame([1] * len(second_level_input),\n                             columns=['intercept'])\n\nsecond_level_model = SecondLevelModel(smoothing_fwhm=8.0)\nsecond_level_model = second_level_model.fit(second_level_input,\n                                            design_matrix=design_matrix)"
      ],
      "metadata": {
        "collapsed": false
      }
    },
    {
      "cell_type": "markdown",
      "source": [
        "To estimate the contrast is very simple. We can just provide the column\nname of the design matrix.\n\n"
      ],
      "metadata": {}
    },
    {
      "outputs": [],
      "execution_count": null,
      "cell_type": "code",
      "source": [
        "z_map = second_level_model.compute_contrast(output_type='z_score')"
      ],
      "metadata": {
        "collapsed": false
      }
    },
    {
      "cell_type": "markdown",
      "source": [
        "We threshold the second level contrast at uncorrected p < 0.001 and plot\n\n"
      ],
      "metadata": {}
    },
    {
      "outputs": [],
      "execution_count": null,
      "cell_type": "code",
      "source": [
        "p_val = 0.001\nz_th = norm.isf(p_val)\ndisplay = plotting.plot_glass_brain(\n    z_map, threshold=z_th, colorbar=True, plot_abs=False, display_mode='z',\n    title='group left-right button press (unc p<0.001')\n\nplotting.show()"
      ],
      "metadata": {
        "collapsed": false
      }
    }
  ],
  "metadata": {
    "kernelspec": {
      "language": "python",
      "display_name": "Python 3",
      "name": "python3"
    },
    "language_info": {
      "name": "python",
      "file_extension": ".py",
      "pygments_lexer": "ipython3",
      "version": "3.5.4",
      "codemirror_mode": {
        "version": 3,
        "name": "ipython"
      },
      "mimetype": "text/x-python",
      "nbconvert_exporter": "python"
    }
  }
}