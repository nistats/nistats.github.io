{
  "nbformat_minor": 0, 
  "nbformat": 4, 
  "cells": [
    {
      "execution_count": null, 
      "cell_type": "code", 
      "source": [
        "%matplotlib inline"
      ], 
      "outputs": [], 
      "metadata": {
        "collapsed": false
      }
    }, 
    {
      "source": [
        "Second-level fMRI model: a two-sample test \n==========================================\n\nFull step-by-step example of fitting a GLM to perform a second level analysis\nin experimental data and visualizing the results.\n\nMore specifically:\n\n1. A sample of n=16 visual activity fMRIs are downloaded.\n2. A two-sample t-test is applied to the brain maps in order to see\nthe effect of the contrast difference across subjects.\n\nThe contrast is between responses to vertical versus horizontal\ncheckerboards than are retinotopically distinct. At the individual\nlevel, these stimuli are sometimes used to map the borders of primary\nvisual areas. At the group level, such a mapping is not possible. Yet,\nwe may observe some significant effects in these areas.\n\n\n"
      ], 
      "cell_type": "markdown", 
      "metadata": {}
    }, 
    {
      "execution_count": null, 
      "cell_type": "code", 
      "source": [
        "import pandas as pd\nfrom nilearn import plotting\nfrom nilearn.datasets import fetch_localizer_contrasts"
      ], 
      "outputs": [], 
      "metadata": {
        "collapsed": false
      }
    }, 
    {
      "source": [
        "Fetch dataset\n--------------\nWe download a list of left vs right button press contrasts from a\nlocalizer dataset.\n\n"
      ], 
      "cell_type": "markdown", 
      "metadata": {}
    }, 
    {
      "execution_count": null, 
      "cell_type": "code", 
      "source": [
        "n_subjects = 16\nsample_vertical = fetch_localizer_contrasts(\n    [\"vertical checkerboard\"], n_subjects, get_tmaps=True)\nsample_horizontal = fetch_localizer_contrasts(\n    [\"horizontal checkerboard\"], n_subjects, get_tmaps=True)\n\n# What remains implicit here is that there is a one-to-one\n# correspondence between the two samples: the first image of both\n# samples comes from subject S1, the second from subject S2 etc."
      ], 
      "outputs": [], 
      "metadata": {
        "collapsed": false
      }
    }, 
    {
      "source": [
        "Estimate second level model\n---------------------------\nWe define the input maps and the design matrix for the second level model\nand fit it.\n\n"
      ], 
      "cell_type": "markdown", 
      "metadata": {}
    }, 
    {
      "execution_count": null, 
      "cell_type": "code", 
      "source": [
        "second_level_input = sample_vertical['cmaps'] + sample_horizontal['cmaps']"
      ], 
      "outputs": [], 
      "metadata": {
        "collapsed": false
      }
    }, 
    {
      "source": [
        "model the effect of conditions (sample 1 vs sample 2)\n\n"
      ], 
      "cell_type": "markdown", 
      "metadata": {}
    }, 
    {
      "execution_count": null, 
      "cell_type": "code", 
      "source": [
        "import numpy as np\ncondition_effect = np.hstack(([1] * n_subjects, [- 1] * n_subjects))"
      ], 
      "outputs": [], 
      "metadata": {
        "collapsed": false
      }
    }, 
    {
      "source": [
        "model the subject effect: each subject is observed in sample 1 and sample 2\n\n"
      ], 
      "cell_type": "markdown", 
      "metadata": {}
    }, 
    {
      "execution_count": null, 
      "cell_type": "code", 
      "source": [
        "subject_effect = np.vstack((np.eye(n_subjects), np.eye(n_subjects)))\nsubjects = ['S%02d' % i for i in range(1, n_subjects + 1)]"
      ], 
      "outputs": [], 
      "metadata": {
        "collapsed": false
      }
    }, 
    {
      "source": [
        "Assemble those in a design matrix\n\n"
      ], 
      "cell_type": "markdown", 
      "metadata": {}
    }, 
    {
      "execution_count": null, 
      "cell_type": "code", 
      "source": [
        "design_matrix = pd.DataFrame(\n    np.hstack((condition_effect[:, np.newaxis], subject_effect)),\n    columns=['vertical vs horizontal'] + subjects)"
      ], 
      "outputs": [], 
      "metadata": {
        "collapsed": false
      }
    }, 
    {
      "source": [
        "plot the design_matrix\n\n"
      ], 
      "cell_type": "markdown", 
      "metadata": {}
    }, 
    {
      "execution_count": null, 
      "cell_type": "code", 
      "source": [
        "from nistats.reporting import plot_design_matrix\nplot_design_matrix(design_matrix)"
      ], 
      "outputs": [], 
      "metadata": {
        "collapsed": false
      }
    }, 
    {
      "source": [
        "formally specify the analysis model and fit it\n\n"
      ], 
      "cell_type": "markdown", 
      "metadata": {}
    }, 
    {
      "execution_count": null, 
      "cell_type": "code", 
      "source": [
        "from nistats.second_level_model import SecondLevelModel\nsecond_level_model = SecondLevelModel().fit(\n    second_level_input, design_matrix=design_matrix)"
      ], 
      "outputs": [], 
      "metadata": {
        "collapsed": false
      }
    }, 
    {
      "source": [
        "Estimating the contrast is very simple. We can just provide the column\nname of the design matrix.\n\n"
      ], 
      "cell_type": "markdown", 
      "metadata": {}
    }, 
    {
      "execution_count": null, 
      "cell_type": "code", 
      "source": [
        "z_map = second_level_model.compute_contrast('vertical vs horizontal',\n                                            output_type='z_score')"
      ], 
      "outputs": [], 
      "metadata": {
        "collapsed": false
      }
    }, 
    {
      "source": [
        "We threshold the second level contrast and plot it\n\n"
      ], 
      "cell_type": "markdown", 
      "metadata": {}
    }, 
    {
      "execution_count": null, 
      "cell_type": "code", 
      "source": [
        "threshold = 3.1  # correponds to  p < .001, uncorrected\ndisplay = plotting.plot_glass_brain(\n    z_map, threshold=threshold, colorbar=True, plot_abs=False,\n    title='vertical vs horizontal checkerboard (unc p<0.001')"
      ], 
      "outputs": [], 
      "metadata": {
        "collapsed": false
      }
    }, 
    {
      "source": [
        "Unsurprisingly, we see activity in the primary visual cortex, both positive and negative.\n\n"
      ], 
      "cell_type": "markdown", 
      "metadata": {}
    }, 
    {
      "execution_count": null, 
      "cell_type": "code", 
      "source": [
        "plotting.show()"
      ], 
      "outputs": [], 
      "metadata": {
        "collapsed": false
      }
    }
  ], 
  "metadata": {
    "kernelspec": {
      "display_name": "Python 2", 
      "name": "python2", 
      "language": "python"
    }, 
    "language_info": {
      "mimetype": "text/x-python", 
      "nbconvert_exporter": "python", 
      "name": "python", 
      "file_extension": ".py", 
      "version": "2.7.15", 
      "pygments_lexer": "ipython2", 
      "codemirror_mode": {
        "version": 2, 
        "name": "ipython"
      }
    }
  }
}