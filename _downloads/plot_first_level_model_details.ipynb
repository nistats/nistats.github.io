{
  "nbformat_minor": 0, 
  "nbformat": 4, 
  "cells": [
    {
      "execution_count": null, 
      "cell_type": "code", 
      "source": [
        "%matplotlib inline"
      ], 
      "outputs": [], 
      "metadata": {
        "collapsed": false
      }
    }, 
    {
      "source": [
        "Studying first-level-model details in a trials-and-error fashion\n================================================================\n\nIn this tutorial, we study the parametrization of the first-level\nmodel used for fMRI data analysis and clarify their impact on the\nresults of the analysis.\n\nWe use an exploratory approach, in which we incrementally include some\nnew features in the analysis and look at the outcome, i.e. the\nresulting brain maps.\n\nReaders without prior experience in fMRI data analysis should first\nrun the `plot_single_subject_single_run` tutorial to get a bit more\nfamiliar with the base concepts, and only then run this tutorial example.\n\nTo run this example, you must launch IPython via ``ipython\n--matplotlib`` in a terminal, or use ``jupyter-notebook``.\n    :depth: 1\n\n\n"
      ], 
      "cell_type": "markdown", 
      "metadata": {}
    }, 
    {
      "source": [
        "Retrieving the data\n-------------------\n\nWe use a so-called localizer dataset, which consists in a 5-minutes\nacquisition of a fast event-related dataset.\n\n\n"
      ], 
      "cell_type": "markdown", 
      "metadata": {}
    }, 
    {
      "execution_count": null, 
      "cell_type": "code", 
      "source": [
        "from nistats import datasets\ndata = datasets.fetch_localizer_first_level()\nfmri_img = data.epi_img"
      ], 
      "outputs": [], 
      "metadata": {
        "collapsed": false
      }
    }, 
    {
      "source": [
        "Define the paradigm that will be used. Here, we just need to get the provided file.\n\nThis task, described in Pinel et al., BMC neuroscience 2007 probes\nbasic functions, such as button with the left or right hand, viewing\nhorizontal and vertical checkerboards, reading and listening to\nshort sentences, and mental computations (subractions).\n\n Visual stimuli were displayed in four 250-ms epochs, separated by\n 100ms intervals (i.e., 1.3s in total). Auditory stimuli were drawn\n from a recorded male voice (i.e., a total of 1.6s for motor\n instructions, 1.2-1.7s for sentences, and 1.2-1.3s for\n subtraction). The auditory or visual stimuli were shown to the\n participants for passive viewing or button response in\n event-related paradigms.  Post-scan questions verified that the\n experimental tasks were understood and followed correctly.\n\nThis task comprises 10 conditions:\n\n* clicGaudio: Left-hand three-times button press, indicated by visual instruction\n* clicDaudio: Right-hand three-times button press, indicated by visual instruction\n* clicGvideo: Left-hand three-times button press, indicated by auditory instruction\n* clicDvideo:  Right-hand three-times button press, indicated by auditory instruction\n* damier_H: Visualization of flashing horizontal checkerboards\n* damier_V: Visualization of flashing vertical checkerboards\n* phraseaudio: Listen to narrative sentences\n* phrasevideo: Read narrative sentences\n* calculaudio: Mental subtraction, indicated by auditory instruction\n* calculvideo: Mental subtraction, indicated by visual instruction\n\n\n"
      ], 
      "cell_type": "markdown", 
      "metadata": {}
    }, 
    {
      "execution_count": null, 
      "cell_type": "code", 
      "source": [
        "t_r = 2.4\nevents_file = data['events']\nimport pandas as pd\nevents= pd.read_table(events_file)"
      ], 
      "outputs": [], 
      "metadata": {
        "collapsed": false
      }
    }, 
    {
      "source": [
        "Running a basic model\n---------------------\n\nFirst specify a linear model.\nthe fit() model creates the design matrix and the beta maps.\n\n\n"
      ], 
      "cell_type": "markdown", 
      "metadata": {}
    }, 
    {
      "execution_count": null, 
      "cell_type": "code", 
      "source": [
        "from nistats.first_level_model import FirstLevelModel\nfirst_level_model = FirstLevelModel(t_r)\nfirst_level_model = first_level_model.fit(fmri_img, events=events)\ndesign_matrix = first_level_model.design_matrices_[0]"
      ], 
      "outputs": [], 
      "metadata": {
        "collapsed": false
      }
    }, 
    {
      "source": [
        "Let us take a look at the design matrix: it has 10 main columns corresponding to 10 experimental conditions, followed by 3 columns describing low-frequency signals (drifts) and a constant regressor.\n\n"
      ], 
      "cell_type": "markdown", 
      "metadata": {}
    }, 
    {
      "execution_count": null, 
      "cell_type": "code", 
      "source": [
        "from nistats.reporting import plot_design_matrix\nplot_design_matrix(design_matrix)\nimport matplotlib.pyplot as plt\nplt.show()"
      ], 
      "outputs": [], 
      "metadata": {
        "collapsed": false
      }
    }, 
    {
      "source": [
        "Specification of the contrasts.\n\nFor this, let's create a function that, given the design matrix,\ngenerates the corresponding contrasts.  This will be useful to\nrepeat contrast specification when we change the design matrix.\n\n"
      ], 
      "cell_type": "markdown", 
      "metadata": {}
    }, 
    {
      "execution_count": null, 
      "cell_type": "code", 
      "source": [
        "import numpy as np\n\ndef make_localizer_contrasts(design_matrix):\n    \"\"\" returns a dictionary of four contrasts, given the design matrix\"\"\"\n\n    # first generate canonical contrasts \n    contrast_matrix = np.eye(design_matrix.shape[1])\n    contrasts = dict([(column, contrast_matrix[i])\n                      for i, column in enumerate(design_matrix.columns)])\n\n    # Add more complex contrasts\n    contrasts['audio'] = (contrasts['clicDaudio']\n                          + contrasts['clicGaudio']\n                          + contrasts['calculaudio']\n                          + contrasts['phraseaudio']\n                          )\n    contrasts['video'] = (contrasts['clicDvideo']\n                          + contrasts['clicGvideo']\n                          + contrasts['calculvideo']\n                          + contrasts['phrasevideo']\n                          )\n    contrasts['computation'] = contrasts['calculaudio'] + contrasts['calculvideo']\n    contrasts['sentences'] = contrasts['phraseaudio'] + contrasts['phrasevideo']\n\n    # Short dictionary of more relevant contrasts\n    contrasts = {\n        'left-right': (contrasts['clicGaudio']\n                       + contrasts['clicGvideo']\n                       - contrasts['clicDaudio']\n                       - contrasts['clicDvideo']\n                       ),\n        'H-V': contrasts['damier_H'] - contrasts['damier_V'],\n        'audio-video': contrasts['audio'] - contrasts['video'],\n        'computation-sentences': (contrasts['computation'] -\n                                  contrasts['sentences']\n                                  ),\n    }\n    return contrasts"
      ], 
      "outputs": [], 
      "metadata": {
        "collapsed": false
      }
    }, 
    {
      "source": [
        "So let's look at these computed contrasts\n\n* \"left - right button press\" probes motor activity in left versus right button presses\n* 'H-V': probes the differential activity in viewing a horizontal vs vertical checkerboard\n* \"audio - video\" probes the difference of activity between listening to some content or reading the same type of content (instructions, stories)\n* \"computation - sentences\" looks at the activity when performing a mental comptation task  versus simply reading sentences.\n\n\n"
      ], 
      "cell_type": "markdown", 
      "metadata": {}
    }, 
    {
      "execution_count": null, 
      "cell_type": "code", 
      "source": [
        "contrasts = make_localizer_contrasts(design_matrix)\nplt.figure(figsize=(5, 9))\nfrom nistats.reporting import plot_contrast_matrix\nfor i, (key, values) in enumerate(contrasts.items()):\n    ax = plt.subplot(5, 1, i + 1)\n    plot_contrast_matrix(values, design_matrix=design_matrix, ax=ax)\n\nplt.show()"
      ], 
      "outputs": [], 
      "metadata": {
        "collapsed": false
      }
    }, 
    {
      "source": [
        "Contrast estimation and plotting\n\nSince this script will be repeated several times, for the sake of readability,\nwe encapsulate it in a function that we call when needed.\n\n\n"
      ], 
      "cell_type": "markdown", 
      "metadata": {}
    }, 
    {
      "execution_count": null, 
      "cell_type": "code", 
      "source": [
        "from nilearn import plotting\n\ndef plot_contrast(first_level_model):\n    \"\"\" Given a first model, specify, enstimate and plot the main contrasts\"\"\"\n    design_matrix = first_level_model.design_matrices_[0]\n    # Call the contrast specification within the function\n    contrasts = make_localizer_contrasts(design_matrix)\n    fig = plt.figure(figsize=(11, 3))\n    # compute the per-contrast z-map\n    for index, (contrast_id, contrast_val) in enumerate(contrasts.items()):\n        ax = plt.subplot(1, len(contrasts), 1 + index)\n        z_map = first_level_model.compute_contrast(\n            contrast_val, output_type='z_score')\n        plotting.plot_stat_map(\n            z_map, display_mode='z', threshold=3.0, title=contrast_id, axes=ax,\n            cut_coords=1)"
      ], 
      "outputs": [], 
      "metadata": {
        "collapsed": false
      }
    }, 
    {
      "source": [
        "Let's run the model and look at the outcome.\n\n"
      ], 
      "cell_type": "markdown", 
      "metadata": {}
    }, 
    {
      "execution_count": null, 
      "cell_type": "code", 
      "source": [
        "plot_contrast(first_level_model)\nplt.show()"
      ], 
      "outputs": [], 
      "metadata": {
        "collapsed": false
      }
    }, 
    {
      "source": [
        "Changing the drift model\n------------------------\n\nBy default the drift model is a set of slow oscillating functions (Discrete Cosine transform), with a cutoff at frequency 1/128 hz.\nWe can change this cut-off, e.g. to 1/64Hz.\nThis is done by setting period_cut=64(s)\n\n"
      ], 
      "cell_type": "markdown", 
      "metadata": {}
    }, 
    {
      "execution_count": null, 
      "cell_type": "code", 
      "source": [
        "first_level_model = FirstLevelModel(t_r, period_cut=64)\nfirst_level_model = first_level_model.fit(fmri_img, events=events)\ndesign_matrix = first_level_model.design_matrices_[0]\nplot_design_matrix(design_matrix)"
      ], 
      "outputs": [], 
      "metadata": {
        "collapsed": false
      }
    }, 
    {
      "source": [
        "Does the model perform worse or better ?\n\n"
      ], 
      "cell_type": "markdown", 
      "metadata": {}
    }, 
    {
      "execution_count": null, 
      "cell_type": "code", 
      "source": [
        "plot_contrast(first_level_model)\nplt.show()"
      ], 
      "outputs": [], 
      "metadata": {
        "collapsed": false
      }
    }, 
    {
      "source": [
        "Note that the design matrix has more columns to model drifts in the data.\n\nWe notice however that this model performs rather poorly.\n\nAnother solution is to remove these drift terms. Maybe they're simply useless.\nthis is done by setting drift_model to None.\n\n"
      ], 
      "cell_type": "markdown", 
      "metadata": {}
    }, 
    {
      "execution_count": null, 
      "cell_type": "code", 
      "source": [
        "first_level_model = FirstLevelModel(t_r, drift_model=None)\nfirst_level_model = first_level_model.fit(fmri_img, events=events)\ndesign_matrix = first_level_model.design_matrices_[0]\nplot_design_matrix(design_matrix)\nplot_contrast(first_level_model)\nplt.show()"
      ], 
      "outputs": [], 
      "metadata": {
        "collapsed": false
      }
    }, 
    {
      "source": [
        "Is it better than the original ? No !\n\nNote that the design matrix has changed with no drift columns.\nthe event columns, on the other hand, haven't changed.\nAnother alternative to get a drift model is to specify a set of polynomials\nLet's take a basis of 5 polynomials\n\n"
      ], 
      "cell_type": "markdown", 
      "metadata": {}
    }, 
    {
      "execution_count": null, 
      "cell_type": "code", 
      "source": [
        "first_level_model = FirstLevelModel(t_r, drift_model='polynomial',\n                                    drift_order=5)\nfirst_level_model = first_level_model.fit(fmri_img, events=events)\ndesign_matrix = first_level_model.design_matrices_[0]\nplot_design_matrix(design_matrix)\nplot_contrast(first_level_model)\nplt.show()"
      ], 
      "outputs": [], 
      "metadata": {
        "collapsed": false
      }
    }, 
    {
      "source": [
        "Is it good ? No better, no worse. Let's turn to another parameter.\n\n"
      ], 
      "cell_type": "markdown", 
      "metadata": {}
    }, 
    {
      "source": [
        "Changing the hemodynamic response model\n---------------------------------------\n\nThis is the filter used to convert the event sequence into a\nreference BOLD signal for the design matrix.\n\nThe first thing that we can do is to change the default model (the\nso-called Glover hrf) for the so-called canonical model of SPM\n--which has slightly weaker undershoot component.\n\n"
      ], 
      "cell_type": "markdown", 
      "metadata": {}
    }, 
    {
      "execution_count": null, 
      "cell_type": "code", 
      "source": [
        "first_level_model = FirstLevelModel(t_r, hrf_model='spm')\nfirst_level_model = first_level_model.fit(fmri_img, events=events)\ndesign_matrix = first_level_model.design_matrices_[0]\nplot_design_matrix(design_matrix)\nplot_contrast(first_level_model)\nplt.show()"
      ], 
      "outputs": [], 
      "metadata": {
        "collapsed": false
      }
    }, 
    {
      "source": [
        "No strong --positive or negative-- effect.\n\nWe could try to go one step further: using not only the so-called\ncanonical hrf, but also its time derivative. Note that in that case,\nwe still perform the contrasts and obtain statistical significance\nfor the main effect ---not the time derivative. This means that the\ninclusion of time derivative in the design matrix has the sole\neffect of discounting timing misspecification from the error term,\nwhich vould decrease the estimated variance and enhance the\nstatistical significance of the effect. Is it the case ?\n\n"
      ], 
      "cell_type": "markdown", 
      "metadata": {}
    }, 
    {
      "execution_count": null, 
      "cell_type": "code", 
      "source": [
        "first_level_model = FirstLevelModel(t_r, hrf_model='spm + derivative')\nfirst_level_model = first_level_model.fit(fmri_img, events=events)\ndesign_matrix = first_level_model.design_matrices_[0]\nplot_design_matrix(design_matrix)\nplot_contrast(first_level_model)\nplt.show()"
      ], 
      "outputs": [], 
      "metadata": {
        "collapsed": false
      }
    }, 
    {
      "source": [
        "Not a huge effect, but rather positive overall. We could keep that one.\n\nBzw, a benefit of this approach is that we can test which voxels are\nwell explined by the derivative term, hinting at misfit regions, a\npossibly valuable information This is implemented by an F test on\nthe time derivative regressors.\n\n"
      ], 
      "cell_type": "markdown", 
      "metadata": {}
    }, 
    {
      "execution_count": null, 
      "cell_type": "code", 
      "source": [
        "contrast_val = np.eye(design_matrix.shape[1])[1:2:21]\nz_map = first_level_model.compute_contrast(\n    contrast_val, output_type='z_score')\nplotting.plot_stat_map(\n    z_map, display_mode='z', threshold=3.0, title='effect of time derivatives')\nplt.show()"
      ], 
      "outputs": [], 
      "metadata": {
        "collapsed": false
      }
    }, 
    {
      "source": [
        "We don't see too much here: the onset times and hrf delay we're\nusing are probably fine.\n\n"
      ], 
      "cell_type": "markdown", 
      "metadata": {}
    }, 
    {
      "source": [
        "We can also consider adding the so-called dispersion derivative to\ncapture some mis-specification in the shape of the hrf.\n\nThis is done by specifying `hrf_model='spm + derivative + dispersion'`\n\n\n"
      ], 
      "cell_type": "markdown", 
      "metadata": {}
    }, 
    {
      "execution_count": null, 
      "cell_type": "code", 
      "source": [
        "first_level_model = FirstLevelModel(t_r, hrf_model='spm + derivative + dispersion')\nfirst_level_model = first_level_model.fit(fmri_img, events=events)\ndesign_matrix = first_level_model.design_matrices_[0]\nplot_design_matrix(design_matrix)\nplot_contrast(first_level_model)\nplt.show()"
      ], 
      "outputs": [], 
      "metadata": {
        "collapsed": false
      }
    }, 
    {
      "source": [
        "Not a huge effect. For the sake of simplicity and readibility, we\ncan drop that one.\n\n"
      ], 
      "cell_type": "markdown", 
      "metadata": {}
    }, 
    {
      "source": [
        "The noise model ar(1) or ols ?\n------------------------------\n\nSo far,we have implicitly used a lag-1 autoregressive model ---aka\nar(1)--- for the temporal structure of the noise. An alternative\nchoice is to use an ordinaly least squares model (ols) that assumes\nno temporal structure (time-independent noise)\n\n"
      ], 
      "cell_type": "markdown", 
      "metadata": {}
    }, 
    {
      "execution_count": null, 
      "cell_type": "code", 
      "source": [
        "first_level_model = FirstLevelModel(t_r, hrf_model='spm + derivative', noise_model='ols')\nfirst_level_model = first_level_model.fit(fmri_img, events=events)\ndesign_matrix = first_level_model.design_matrices_[0]\nplot_design_matrix(design_matrix)\nplot_contrast(first_level_model)\nplt.show()"
      ], 
      "outputs": [], 
      "metadata": {
        "collapsed": false
      }
    }, 
    {
      "source": [
        "While the difference is not obvious you should rather stick to the ar(1) model, which is arguably more accurate.\n\n"
      ], 
      "cell_type": "markdown", 
      "metadata": {}
    }, 
    {
      "source": [
        "Removing confounds\n------------------\n\nA problematic feature of fMRI is the presence of unconctrolled\nconfounds in the data, sue to scanner instabilities (spikes) or\nphysiological phenomena, such as motion, heart and\nrespiration-related blood oxygenation flucturations.  Side\nmeasurements are sometimes acquired to charcterise these\neffects. Here we don't have access to those.  What we can do instead\nis to estimate confounding effects from the data themselves, using\nthe compcorr approach, and take those into account in the model.\n\nFor this we rely on the so-called `high_variance_confounds\n<https://nilearn.github.io/modules/generated/nilearn.image.high_variance_confounds.html>`\nroutine of Nilearn.\n\n"
      ], 
      "cell_type": "markdown", 
      "metadata": {}
    }, 
    {
      "execution_count": null, 
      "cell_type": "code", 
      "source": [
        "from nilearn.image import high_variance_confounds\nconfounds = pd.DataFrame(high_variance_confounds(fmri_img, percentile=1))\nfirst_level_model = FirstLevelModel(t_r, hrf_model='spm + derivative')\nfirst_level_model = first_level_model.fit(fmri_img, events=events,\n                                          confounds=confounds)\ndesign_matrix = first_level_model.design_matrices_[0]\nplot_design_matrix(design_matrix)\nplot_contrast(first_level_model)\nplt.show()"
      ], 
      "outputs": [], 
      "metadata": {
        "collapsed": false
      }
    }, 
    {
      "source": [
        "Note the five additional columns in the design matrix\n\nThe effect on activation maps is complex: auditory/visual effects\nare killed, probably because they were somewhat colinear to the\nconfounds. On the other hand, some of the maps become cleaner (H-V,\ncomputation) after this addition.\n\n"
      ], 
      "cell_type": "markdown", 
      "metadata": {}
    }, 
    {
      "source": [
        "Smoothing\n----------\n\nSmoothing is a regularization of the model. It has two benefits:\ndecrease the noise level in images, and reduce the discrepancy\nbetween individuals. The drawback is that it biases the shape and\nposition of activation.  We simply illustrate here the statistical\ngains.  We use a mild smoothing of 5mm full-width at half maximum\n(fwhm).\n\n"
      ], 
      "cell_type": "markdown", 
      "metadata": {}
    }, 
    {
      "execution_count": null, 
      "cell_type": "code", 
      "source": [
        "first_level_model = FirstLevelModel(\n    t_r, hrf_model='spm + derivative', smoothing_fwhm=5).fit(\n        fmri_img, events=events, confounds=confounds)\ndesign_matrix = first_level_model.design_matrices_[0]\nplot_design_matrix(design_matrix)\nplot_contrast(first_level_model)\nplt.show()"
      ], 
      "outputs": [], 
      "metadata": {
        "collapsed": false
      }
    }, 
    {
      "source": [
        "The design is unchanged but the maps are smoother and more contrasted\n\n\n"
      ], 
      "cell_type": "markdown", 
      "metadata": {}
    }, 
    {
      "source": [
        "Masking\n--------\nMasking consists in selecting the region of the image on which the model is run: it is useless to run it outside of the brain.\n\nThe approach taken by FirstLeveModel is to estimate it from the fMRI\ndata themselves when no mask is explicitly provided.  Since the data\nhave been resampled into MNI space, we can use instead a mask of the\ngrey matter in MNI space. The benefit is that it makes voxel-level\ncomparisons easier across subjects and datasets, and removed\nnon-grey matter regions, in which no BOLD signal is expected.  The\ndownside is that the mask may not fit very well these particular\ndata.\n\n"
      ], 
      "cell_type": "markdown", 
      "metadata": {}
    }, 
    {
      "execution_count": null, 
      "cell_type": "code", 
      "source": [
        "from nilearn.plotting import plot_roi \nfrom nilearn.datasets import fetch_icbm152_brain_gm_mask\nicbm_mask = fetch_icbm152_brain_gm_mask()\ndata_mask = first_level_model.masker_.mask_img_\nplt.figure(figsize=(16, 4))\nax = plt.subplot(121)\nplot_roi(icbm_mask, title='ICBM mask', axes=ax)\nax = plt.subplot(122)\nplot_roi(data_mask, title='Data-driven mask', axes=ax)\nplt.show()"
      ], 
      "outputs": [], 
      "metadata": {
        "collapsed": false
      }
    }, 
    {
      "source": [
        "Impact on the first-level model\n\n"
      ], 
      "cell_type": "markdown", 
      "metadata": {}
    }, 
    {
      "execution_count": null, 
      "cell_type": "code", 
      "source": [
        "first_level_model = FirstLevelModel(\n    t_r, hrf_model='spm + derivative', smoothing_fwhm=5).fit(\n        fmri_img, events=events, confounds=confounds)\ndesign_matrix = first_level_model.design_matrices_[0]\nplot_design_matrix(design_matrix)\nplot_contrast(first_level_model)\nplt.show()"
      ], 
      "outputs": [], 
      "metadata": {
        "collapsed": false
      }
    }, 
    {
      "source": [
        "Conclusion\n----------\n\nInterestingly, the model used here seems quite resilient to\nmanipulation of modeling parameters: this is reassuring. It shows\nthat Nistats defaults ('cosine' drift, cutoff=128s, 'glover' hrf,\nar(1) model) are actually reasonable.  Note that these conclusions\nare specific to this dataset and may vary with other ones.\n\n"
      ], 
      "cell_type": "markdown", 
      "metadata": {}
    }
  ], 
  "metadata": {
    "kernelspec": {
      "display_name": "Python 2", 
      "name": "python2", 
      "language": "python"
    }, 
    "language_info": {
      "mimetype": "text/x-python", 
      "nbconvert_exporter": "python", 
      "name": "python", 
      "file_extension": ".py", 
      "version": "2.7.15", 
      "pygments_lexer": "ipython2", 
      "codemirror_mode": {
        "version": 2, 
        "name": "ipython"
      }
    }
  }
}