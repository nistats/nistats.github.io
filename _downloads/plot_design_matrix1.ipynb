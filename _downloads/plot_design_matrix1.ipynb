{
  "nbformat_minor": 0, 
  "nbformat": 4, 
  "cells": [
    {
      "execution_count": null, 
      "cell_type": "code", 
      "source": [
        "%matplotlib inline"
      ], 
      "outputs": [], 
      "metadata": {
        "collapsed": false
      }
    }, 
    {
      "source": [
        "\nExamples of design matrices\n===========================\n\nThree examples of design matrices specification and computation\n(event-related design, block design, FIR design)\n\nRequires matplotlib\n\nAuthor : Bertrand Thirion: 2009-2015\n\n"
      ], 
      "cell_type": "markdown", 
      "metadata": {}
    }, 
    {
      "execution_count": null, 
      "cell_type": "code", 
      "source": [
        "print(__doc__)\n\nimport numpy as np\n\ntry:\n    import matplotlib.pyplot as plt\nexcept ImportError:\n    raise RuntimeError(\"This script needs the matplotlib library\")\n\nfrom nistats.design_matrix import make_design_matrix, plot_design_matrix\nimport pandas as pd\n\n\n# frame times\ntr = 1.0\nn_scans = 128\nframe_times = np.arange(n_scans) * tr\n\n# experimental paradigm\nconditions = ['c0', 'c0', 'c0', 'c1', 'c1', 'c1', 'c3', 'c3', 'c3']\nonsets = [30., 70., 100., 10., 30., 90., 30., 40., 60.]\nmotion = np.cumsum(np.random.randn(n_scans, 6), 0)  # simulate motion\nhrf_model = 'glover'\nadd_reg_names = ['tx', 'ty', 'tz', 'rx', 'ry', 'rz']\n\n# event-related design matrix\nparadigm = pd.DataFrame({'name': conditions, 'onset': onsets})\n\nX1 = make_design_matrix(\n    frame_times, paradigm, drift_model='polynomial', drift_order=3,\n    add_regs=motion, add_reg_names=add_reg_names)\n\n# block design matrix\nduration = 7. * np.ones(len(conditions))\nparadigm = pd.DataFrame({'name': conditions, 'onset': onsets,\n                      'duration': duration})\n\nX2 = make_design_matrix(frame_times, paradigm, drift_model='polynomial',\n                        drift_order=3)\n\n# FIR model\nparadigm = pd.DataFrame({'name': conditions, 'onset': onsets})\nhrf_model = 'FIR'\nX3 = make_design_matrix(frame_times, paradigm, hrf_model='fir',\n                        drift_model='polynomial', drift_order=3,\n                        fir_delays=np.arange(1, 6))\n\n# plot the results\nfig, (ax1, ax2, ax3) = plt.subplots(figsize=(10, 6), nrows=1, ncols=3)\nplot_design_matrix(X1, ax=ax1)\nax1.set_title('Event-related design matrix', fontsize=12)\nplot_design_matrix(X2, ax=ax2)\nax2.set_title('Block design matrix', fontsize=12)\nplot_design_matrix(X3, ax=ax3)\nax3.set_title('FIR design matrix', fontsize=12)\nplt.subplots_adjust(left=0.08, top=0.9, bottom=0.21, right=0.96, wspace=0.3)\nplt.show()"
      ], 
      "outputs": [], 
      "metadata": {
        "collapsed": false
      }
    }
  ], 
  "metadata": {
    "kernelspec": {
      "display_name": "Python 2", 
      "name": "python2", 
      "language": "python"
    }, 
    "language_info": {
      "mimetype": "text/x-python", 
      "nbconvert_exporter": "python", 
      "name": "python", 
      "file_extension": ".py", 
      "version": "2.7.6", 
      "pygments_lexer": "ipython2", 
      "codemirror_mode": {
        "version": 2, 
        "name": "ipython"
      }
    }
  }
}