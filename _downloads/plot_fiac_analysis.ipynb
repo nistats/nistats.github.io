{
  "cells": [
    {
      "cell_type": "code",
      "execution_count": null,
      "metadata": {
        "collapsed": false
      },
      "outputs": [],
      "source": [
        "%matplotlib inline"
      ]
    },
    {
      "cell_type": "markdown",
      "metadata": {},
      "source": [
        "\nSimple example of GLM fitting in fMRI\n======================================\n\nFull step-by-step example of fitting a GLM to experimental data and visualizing\nthe results. This is done on two runs of one subject of the FIAC dataset.\nFor details on the data, please see:\n\nDehaene-Lambertz G, Dehaene S, Anton JL, Campagne A, Ciuciu P, Dehaene\nG, Denghien I, Jobert A, LeBihan D, Sigman M, Pallier C, Poline\nJB. Functional segregation of cortical language areas by sentence\nrepetition. Hum Brain Mapp. 2006: 27:360--371.\nhttp://www.pubmedcentral.nih.gov/articlerender.fcgi?artid=2653076#R11\n\nMore specifically:\n\n1. A sequence of fMRI volumes are loaded\n2. A design matrix describing all the effects related to the data is computed\n3. a mask of the useful brain volume is computed\n4. A GLM is applied to the dataset (effect/covariance,\n   then contrast estimation)\n\n\n"
      ]
    },
    {
      "cell_type": "code",
      "execution_count": null,
      "metadata": {
        "collapsed": false
      },
      "outputs": [],
      "source": [
        "from os import mkdir, path, getcwd\n\nimport numpy as np\nimport pandas as pd\n\nfrom nilearn import plotting\nfrom nilearn.image import mean_img\n\nfrom nistats.first_level_model import FirstLevelModel\nfrom nistats import datasets\n\n\n# write directory\nwrite_dir = path.join(getcwd(), 'results')\nif not path.exists(write_dir):\n    mkdir(write_dir)"
      ]
    },
    {
      "cell_type": "markdown",
      "metadata": {},
      "source": [
        "Prepare data and analysis parameters\n--------------------------------------\n\n"
      ]
    },
    {
      "cell_type": "code",
      "execution_count": null,
      "metadata": {
        "collapsed": false
      },
      "outputs": [],
      "source": [
        "data = datasets.fetch_fiac_first_level()\nfmri_img = [data['func1'], data['func2']]\nmean_img_ = mean_img(fmri_img[0])\ndesign_files = [data['design_matrix1'], data['design_matrix2']]\ndesign_matrices = [pd.DataFrame(np.load(df)['X']) for df in design_files]"
      ]
    },
    {
      "cell_type": "markdown",
      "metadata": {},
      "source": [
        "GLM estimation\n----------------------------------\nGLM specification\n\n"
      ]
    },
    {
      "cell_type": "code",
      "execution_count": null,
      "metadata": {
        "collapsed": false
      },
      "outputs": [],
      "source": [
        "fmri_glm = FirstLevelModel(mask=data['mask'], minimize_memory=True)"
      ]
    },
    {
      "cell_type": "markdown",
      "metadata": {},
      "source": [
        "GLM fitting\n\n"
      ]
    },
    {
      "cell_type": "code",
      "execution_count": null,
      "metadata": {
        "collapsed": false
      },
      "outputs": [],
      "source": [
        "fmri_glm = fmri_glm.fit(fmri_img, design_matrices=design_matrices)"
      ]
    },
    {
      "cell_type": "markdown",
      "metadata": {},
      "source": [
        "compute fixed effects of the two runs and compute related images\n\n"
      ]
    },
    {
      "cell_type": "code",
      "execution_count": null,
      "metadata": {
        "collapsed": false
      },
      "outputs": [],
      "source": [
        "n_columns = design_matrices[0].shape[1]\n\n\ndef pad_vector(contrast_, n_columns):\n    return np.hstack((contrast_, np.zeros(n_columns - len(contrast_))))\n\n\ncontrasts = {'SStSSp_minus_DStDSp': pad_vector([1, 0, 0, -1], n_columns),\n             'DStDSp_minus_SStSSp': pad_vector([-1, 0, 0, 1], n_columns),\n             'DSt_minus_SSt': pad_vector([-1, -1, 1, 1], n_columns),\n             'DSp_minus_SSp': pad_vector([-1, 1, -1, 1], n_columns),\n             'DSt_minus_SSt_for_DSp': pad_vector([0, -1, 0, 1], n_columns),\n             'DSp_minus_SSp_for_DSt': pad_vector([0, 0, -1, 1], n_columns),\n             'Deactivation': pad_vector([-1, -1, -1, -1, 4], n_columns),\n             'Effects_of_interest': np.eye(n_columns)[:5]}\n\nprint('Computing contrasts...')\nfor index, (contrast_id, contrast_val) in enumerate(contrasts.items()):\n    print('  Contrast % 2i out of %i: %s' % (\n        index + 1, len(contrasts), contrast_id))\n    z_image_path = path.join(write_dir, '%s_z_map.nii' % contrast_id)\n    z_map = fmri_glm.compute_contrast(\n        contrast_val, output_type='z_score')\n    z_map.to_filename(z_image_path)\n\n    # make a snapshot of the contrast activation\n    if contrast_id == 'Effects_of_interest':\n        display = plotting.plot_stat_map(\n            z_map, bg_img=mean_img_, threshold=2.5, title=contrast_id)\n        display.savefig(path.join(write_dir, '%s_z_map.png' % contrast_id))\n\nprint('All the  results were witten in %s' % write_dir)\nplotting.show()"
      ]
    }
  ],
  "metadata": {
    "kernelspec": {
      "display_name": "Python 3",
      "language": "python",
      "name": "python3"
    },
    "language_info": {
      "codemirror_mode": {
        "name": "ipython",
        "version": 3
      },
      "file_extension": ".py",
      "mimetype": "text/x-python",
      "name": "python",
      "nbconvert_exporter": "python",
      "pygments_lexer": "ipython3",
      "version": "3.6.0"
    }
  },
  "nbformat": 4,
  "nbformat_minor": 0
}