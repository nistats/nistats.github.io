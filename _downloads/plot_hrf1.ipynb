{
  "nbformat_minor": 0, 
  "nbformat": 4, 
  "cells": [
    {
      "execution_count": null, 
      "cell_type": "code", 
      "source": [
        "%matplotlib inline"
      ], 
      "outputs": [], 
      "metadata": {
        "collapsed": false
      }
    }, 
    {
      "source": [
        "\nExample of hemodynamic reponse functions.\n=========================================\nWe consider the hrf model in SPM together with the hrf shape proposed by G.Glover, as well as their time and dispersion derivatives.\n\nRequires matplotlib\n\nAuthor : Bertrand Thirion: 2009-2015\n\n"
      ], 
      "cell_type": "markdown", 
      "metadata": {}
    }, 
    {
      "execution_count": null, 
      "cell_type": "code", 
      "source": [
        "import numpy as np\nimport matplotlib.pyplot as plt\nfrom nistats import hemodynamic_models\n\n\n# parameters\nframe_times = np.linspace(0, 30, 61)\nonset, amplitude, duration = 0., 1., 1.\nstim = np.zeros_like(frame_times)\nstim[(frame_times > onset) * (frame_times <= onset + duration)] = amplitude\nexp_condition = np.array((onset, duration, amplitude)).reshape(3, 1)\nhrf_models = ['glover + derivative', 'glover + derivative + dispersion']\n\n\nfig = plt.figure(figsize=(9, 4))\n# sample the hrf\nfor i, hrf_model in enumerate(hrf_models):\n    signal, name = hemodynamic_models.compute_regressor(\n        exp_condition, hrf_model, frame_times, con_id='main',\n        oversampling=16)\n\n    plt.subplot(1, 2, i + 1)\n    plt.fill(frame_times, stim, 'k', alpha=.5, label='stimulus')\n    for j in range(signal.shape[1]):\n        plt.plot(frame_times, signal.T[j], label=name[j])\n    plt.xlabel('time (s)')\n    plt.legend(loc=1)\n    plt.title(hrf_model)\n\nplt.subplots_adjust(bottom=.12)\nfig.show()"
      ], 
      "outputs": [], 
      "metadata": {
        "collapsed": false
      }
    }
  ], 
  "metadata": {
    "kernelspec": {
      "display_name": "Python 2", 
      "name": "python2", 
      "language": "python"
    }, 
    "language_info": {
      "mimetype": "text/x-python", 
      "nbconvert_exporter": "python", 
      "name": "python", 
      "file_extension": ".py", 
      "version": "2.7.6", 
      "pygments_lexer": "ipython2", 
      "codemirror_mode": {
        "version": 2, 
        "name": "ipython"
      }
    }
  }
}